{
 "cells": [
  {
   "cell_type": "markdown",
   "metadata": {
    "run_control": {
     "marked": false
    }
   },
   "source": [
    "# Imports"
   ]
  },
  {
   "cell_type": "code",
   "execution_count": 1,
   "metadata": {},
   "outputs": [
    {
     "data": {
      "application/javascript": [
       "var kernel = IPython.notebook.kernel;\n",
       "var command = \n",
       "    \"NOTEBOOK_NAME = \" + \n",
       "    \"'\" + document.body.attributes['data-notebook-name'].value.slice(0, -6) + \"'\";\n",
       "kernel.execute(command);"
      ],
      "text/plain": [
       "<IPython.core.display.Javascript object>"
      ]
     },
     "metadata": {},
     "output_type": "display_data"
    }
   ],
   "source": [
    "%%javascript\n",
    "var kernel = IPython.notebook.kernel;\n",
    "var command = \n",
    "    \"NOTEBOOK_NAME = \" + \n",
    "    \"'\" + document.body.attributes['data-notebook-name'].value.slice(0, -6) + \"'\";\n",
    "kernel.execute(command);"
   ]
  },
  {
   "cell_type": "code",
   "execution_count": 2,
   "metadata": {
    "collapsed": true
   },
   "outputs": [],
   "source": [
    "%load_ext autoreload\n",
    "%autoreload 2"
   ]
  },
  {
   "cell_type": "code",
   "execution_count": 10,
   "metadata": {},
   "outputs": [
    {
     "ename": "ModuleNotFoundError",
     "evalue": "No module named 'kmbio.PDB.Vector'",
     "output_type": "error",
     "traceback": [
      "\u001b[0;31m---------------------------------------------------------------------------\u001b[0m",
      "\u001b[0;31mModuleNotFoundError\u001b[0m                       Traceback (most recent call last)",
      "\u001b[0;32m<ipython-input-10-797f2a0b7d9a>\u001b[0m in \u001b[0;36m<module>\u001b[0;34m()\u001b[0m\n\u001b[1;32m      8\u001b[0m \u001b[0;32mimport\u001b[0m \u001b[0mnglview\u001b[0m\u001b[0;34m\u001b[0m\u001b[0m\n\u001b[1;32m      9\u001b[0m \u001b[0;34m\u001b[0m\u001b[0m\n\u001b[0;32m---> 10\u001b[0;31m \u001b[0;32mimport\u001b[0m \u001b[0mkmbio\u001b[0m\u001b[0;34m\u001b[0m\u001b[0m\n\u001b[0m",
      "\u001b[0;32m/home/kimlab1/strokach/working/kmbio/kmbio/__init__.py\u001b[0m in \u001b[0;36m<module>\u001b[0;34m()\u001b[0m\n\u001b[1;32m     20\u001b[0m     \u001b[0;34m'SVDSuperimposer'\u001b[0m\u001b[0;34m,\u001b[0m\u001b[0;34m\u001b[0m\u001b[0m\n\u001b[1;32m     21\u001b[0m ]\n\u001b[0;32m---> 22\u001b[0;31m \u001b[0;32mfrom\u001b[0m \u001b[0;34m.\u001b[0m \u001b[0;32mimport\u001b[0m \u001b[0;34m*\u001b[0m\u001b[0;34m\u001b[0m\u001b[0m\n\u001b[0m",
      "\u001b[0;32m/home/kimlab1/strokach/working/kmbio/kmbio/PDB/__init__.py\u001b[0m in \u001b[0;36m<module>\u001b[0;34m()\u001b[0m\n\u001b[1;32m     27\u001b[0m \u001b[0;34m\u001b[0m\u001b[0m\n\u001b[1;32m     28\u001b[0m \u001b[0;31m# Get a Structure object from a PDB file\u001b[0m\u001b[0;34m\u001b[0m\u001b[0;34m\u001b[0m\u001b[0m\n\u001b[0;32m---> 29\u001b[0;31m \u001b[0;32mfrom\u001b[0m \u001b[0;34m.\u001b[0m\u001b[0mpdb_parser\u001b[0m \u001b[0;32mimport\u001b[0m \u001b[0mPDBParser\u001b[0m\u001b[0;34m\u001b[0m\u001b[0m\n\u001b[0m\u001b[1;32m     30\u001b[0m \u001b[0;34m\u001b[0m\u001b[0m\n\u001b[1;32m     31\u001b[0m \u001b[0;32mfrom\u001b[0m \u001b[0;34m.\u001b[0m\u001b[0mmmcif_parser\u001b[0m \u001b[0;32mimport\u001b[0m \u001b[0mMMCIFParser\u001b[0m\u001b[0;34m\u001b[0m\u001b[0m\n",
      "\u001b[0;32m/home/kimlab1/strokach/working/kmbio/kmbio/PDB/pdb_parser.py\u001b[0m in \u001b[0;36m<module>\u001b[0;34m()\u001b[0m\n\u001b[1;32m     12\u001b[0m \u001b[0;32mfrom\u001b[0m \u001b[0mkmbio\u001b[0m\u001b[0;34m.\u001b[0m\u001b[0mPDB\u001b[0m\u001b[0;34m.\u001b[0m\u001b[0mParser\u001b[0m \u001b[0;32mimport\u001b[0m \u001b[0mParser\u001b[0m\u001b[0;34m\u001b[0m\u001b[0m\n\u001b[1;32m     13\u001b[0m \u001b[0;32mfrom\u001b[0m \u001b[0mkmbio\u001b[0m\u001b[0;34m.\u001b[0m\u001b[0mPDB\u001b[0m\u001b[0;34m.\u001b[0m\u001b[0mPDBExceptions\u001b[0m \u001b[0;32mimport\u001b[0m \u001b[0mPDBConstructionException\u001b[0m\u001b[0;34m\u001b[0m\u001b[0m\n\u001b[0;32m---> 14\u001b[0;31m \u001b[0;32mfrom\u001b[0m \u001b[0mkmbio\u001b[0m\u001b[0;34m.\u001b[0m\u001b[0mPDB\u001b[0m\u001b[0;34m.\u001b[0m\u001b[0mStructureBuilder\u001b[0m \u001b[0;32mimport\u001b[0m \u001b[0mStructureBuilder\u001b[0m\u001b[0;34m\u001b[0m\u001b[0m\n\u001b[0m\u001b[1;32m     15\u001b[0m \u001b[0;34m\u001b[0m\u001b[0m\n\u001b[1;32m     16\u001b[0m \u001b[0mlogger\u001b[0m \u001b[0;34m=\u001b[0m \u001b[0mlogging\u001b[0m\u001b[0;34m.\u001b[0m\u001b[0mgetLogger\u001b[0m\u001b[0;34m(\u001b[0m\u001b[0m__name__\u001b[0m\u001b[0;34m)\u001b[0m\u001b[0;34m\u001b[0m\u001b[0m\n",
      "\u001b[0;32m/home/kimlab1/strokach/working/kmbio/kmbio/PDB/StructureBuilder.py\u001b[0m in \u001b[0;36m<module>\u001b[0;34m()\u001b[0m\n\u001b[1;32m     10\u001b[0m \u001b[0;32mimport\u001b[0m \u001b[0mlogging\u001b[0m\u001b[0;34m\u001b[0m\u001b[0m\n\u001b[1;32m     11\u001b[0m \u001b[0;34m\u001b[0m\u001b[0m\n\u001b[0;32m---> 12\u001b[0;31m \u001b[0;32mfrom\u001b[0m \u001b[0mkmbio\u001b[0m\u001b[0;34m.\u001b[0m\u001b[0mPDB\u001b[0m\u001b[0;34m.\u001b[0m\u001b[0mAtom\u001b[0m \u001b[0;32mimport\u001b[0m \u001b[0mAtom\u001b[0m\u001b[0;34m,\u001b[0m \u001b[0mDisorderedAtom\u001b[0m\u001b[0;34m\u001b[0m\u001b[0m\n\u001b[0m\u001b[1;32m     13\u001b[0m \u001b[0;32mfrom\u001b[0m \u001b[0mkmbio\u001b[0m\u001b[0;34m.\u001b[0m\u001b[0mPDB\u001b[0m\u001b[0;34m.\u001b[0m\u001b[0mChain\u001b[0m \u001b[0;32mimport\u001b[0m \u001b[0mChain\u001b[0m\u001b[0;34m\u001b[0m\u001b[0m\n\u001b[1;32m     14\u001b[0m \u001b[0;32mfrom\u001b[0m \u001b[0mkmbio\u001b[0m\u001b[0;34m.\u001b[0m\u001b[0mPDB\u001b[0m\u001b[0;34m.\u001b[0m\u001b[0mModel\u001b[0m \u001b[0;32mimport\u001b[0m \u001b[0mModel\u001b[0m\u001b[0;34m\u001b[0m\u001b[0m\n",
      "\u001b[0;32m/home/kimlab1/strokach/working/kmbio/kmbio/PDB/Atom.py\u001b[0m in \u001b[0;36m<module>\u001b[0;34m()\u001b[0m\n\u001b[1;32m     11\u001b[0m \u001b[0;34m\u001b[0m\u001b[0m\n\u001b[1;32m     12\u001b[0m \u001b[0;32mfrom\u001b[0m \u001b[0mkmbio\u001b[0m\u001b[0;34m.\u001b[0m\u001b[0mPDB\u001b[0m\u001b[0;34m.\u001b[0m\u001b[0mEntity\u001b[0m \u001b[0;32mimport\u001b[0m \u001b[0mDisorderedEntityWrapper\u001b[0m\u001b[0;34m\u001b[0m\u001b[0m\n\u001b[0;32m---> 13\u001b[0;31m \u001b[0;32mfrom\u001b[0m \u001b[0mkmbio\u001b[0m\u001b[0;34m.\u001b[0m\u001b[0mPDB\u001b[0m\u001b[0;34m.\u001b[0m\u001b[0mVector\u001b[0m \u001b[0;32mimport\u001b[0m \u001b[0mVector\u001b[0m\u001b[0;34m\u001b[0m\u001b[0m\n\u001b[0m\u001b[1;32m     14\u001b[0m \u001b[0;32mfrom\u001b[0m \u001b[0mkmbio\u001b[0m\u001b[0;34m.\u001b[0m\u001b[0mPDB\u001b[0m\u001b[0;34m.\u001b[0m\u001b[0mEntity\u001b[0m \u001b[0;32mimport\u001b[0m \u001b[0mEntity\u001b[0m\u001b[0;34m\u001b[0m\u001b[0m\n\u001b[1;32m     15\u001b[0m \u001b[0;32mfrom\u001b[0m \u001b[0mBio\u001b[0m\u001b[0;34m.\u001b[0m\u001b[0mData\u001b[0m \u001b[0;32mimport\u001b[0m \u001b[0mIUPACData\u001b[0m\u001b[0;34m\u001b[0m\u001b[0m\n",
      "\u001b[0;31mModuleNotFoundError\u001b[0m: No module named 'kmbio.PDB.Vector'"
     ]
    }
   ],
   "source": [
    "import os\n",
    "import os.path as op\n",
    "import tempfile\n",
    "import urllib.request\n",
    "\n",
    "import numpy as np\n",
    "import pandas as pd\n",
    "import nglview\n",
    "\n",
    "import kmbio"
   ]
  },
  {
   "cell_type": "markdown",
   "metadata": {},
   "source": [
    "# PDB viewer"
   ]
  },
  {
   "cell_type": "code",
   "execution_count": null,
   "metadata": {
    "run_control": {
     "marked": false
    },
    "scrolled": true
   },
   "outputs": [],
   "source": [
    "initial_repr = [\n",
    "    {\"type\": \"cartoon\", \"params\": {\n",
    "        \"sele\": \"protein\", \"color\": \"sstruc\"\n",
    "    }}\n",
    "]\n",
    "\n",
    "view = nglview.NGLWidget(background='white')\n",
    "\n",
    "view.add_pdbid('4dkl')\n",
    "view.background = 'black'\n",
    "view.color_by('atomindex')\n",
    "# view.parameters = {\n",
    "#     # \"percentages, \"dist\" is distance too camera in Angstrom\n",
    "#     \"clipNear\": 0, \"clipFar\": 100, \"clipDist\": 10,\n",
    "#     # percentages, start of fog and where on full effect\n",
    "#     \"fogNear\": 0, \"fogFar\": 1000,\n",
    "#     # background color\n",
    "#     \"backgroundColor\": \"white\",\n",
    "# }\n",
    "# view.update_cartoon(opacity=0.4, component=0)\n",
    "# view.camera = 'orthographic'\n",
    "r = view.render_image()\n",
    "print(r)"
   ]
  },
  {
   "cell_type": "markdown",
   "metadata": {},
   "source": [
    "# Data"
   ]
  },
  {
   "cell_type": "code",
   "execution_count": 4,
   "metadata": {
    "run_control": {
     "marked": false
    }
   },
   "outputs": [],
   "source": [
    "pdb_id = '2ou1'\n",
    "cif_file = '/home/kimlab1/database_data/pdb/data/data/structures/divided/mmCIF/ou/2ou1.cif.gz' \n",
    "bioassembly_files = [\n",
    "    '/home/kimlab1/database_data/pdb/data/data/structures/divided/mmCIF/ou/1ou0-1.cif',\n",
    "]"
   ]
  },
  {
   "cell_type": "code",
   "execution_count": 5,
   "metadata": {
    "collapsed": true
   },
   "outputs": [],
   "source": [
    "import importlib\n",
    "from kmtools import system_tools"
   ]
  },
  {
   "cell_type": "code",
   "execution_count": 6,
   "metadata": {},
   "outputs": [
    {
     "name": "stdout",
     "output_type": "stream",
     "text": [
      "Gunzipping file '/home/kimlab1/database_data/pdb/data/data/structures/divided/mmCIF/ou/2ou1.cif.gz'...\n",
      "Gzipping the file back again...\n"
     ]
    },
    {
     "ename": "NameError",
     "evalue": "name 'kmbio' is not defined",
     "output_type": "error",
     "traceback": [
      "\u001b[0;31m---------------------------------------------------------------------------\u001b[0m",
      "\u001b[0;31mNameError\u001b[0m                                 Traceback (most recent call last)",
      "\u001b[0;32m<ipython-input-6-b747386286a0>\u001b[0m in \u001b[0;36m<module>\u001b[0;34m()\u001b[0m\n\u001b[1;32m      1\u001b[0m \u001b[0;32mwith\u001b[0m \u001b[0msystem_tools\u001b[0m\u001b[0;34m.\u001b[0m\u001b[0mdecompress\u001b[0m\u001b[0;34m(\u001b[0m\u001b[0mcif_file\u001b[0m\u001b[0;34m)\u001b[0m \u001b[0;32mas\u001b[0m \u001b[0minput_file\u001b[0m\u001b[0;34m:\u001b[0m\u001b[0;34m\u001b[0m\u001b[0m\n\u001b[0;32m----> 2\u001b[0;31m     \u001b[0msdict\u001b[0m \u001b[0;34m=\u001b[0m \u001b[0mkmbio\u001b[0m\u001b[0;34m.\u001b[0m\u001b[0mPDB\u001b[0m\u001b[0;34m.\u001b[0m\u001b[0mMMCIF2Dict\u001b[0m\u001b[0;34m(\u001b[0m\u001b[0minput_file\u001b[0m\u001b[0;34m)\u001b[0m\u001b[0;34m\u001b[0m\u001b[0m\n\u001b[0m\u001b[1;32m      3\u001b[0m     \u001b[0mstruct\u001b[0m \u001b[0;34m=\u001b[0m \u001b[0mkmbio\u001b[0m\u001b[0;34m.\u001b[0m\u001b[0mPDB\u001b[0m\u001b[0;34m.\u001b[0m\u001b[0mMMCIFParser\u001b[0m\u001b[0;34m(\u001b[0m\u001b[0mignore_auth_id\u001b[0m\u001b[0;34m=\u001b[0m\u001b[0;32mTrue\u001b[0m\u001b[0;34m)\u001b[0m\u001b[0;34m.\u001b[0m\u001b[0mget_structure\u001b[0m\u001b[0;34m(\u001b[0m\u001b[0minput_file\u001b[0m\u001b[0;34m)\u001b[0m\u001b[0;34m\u001b[0m\u001b[0m\n",
      "\u001b[0;31mNameError\u001b[0m: name 'kmbio' is not defined"
     ]
    }
   ],
   "source": [
    "with system_tools.decompress(cif_file) as input_file:\n",
    "    sdict = kmbio.PDB.MMCIF2Dict(input_file)\n",
    "    struct = kmbio.PDB.MMCIFParser(ignore_auth_id=True).get_structure(input_file)"
   ]
  },
  {
   "cell_type": "code",
   "execution_count": 7,
   "metadata": {},
   "outputs": [
    {
     "ename": "NameError",
     "evalue": "name 'kmbio' is not defined",
     "output_type": "error",
     "traceback": [
      "\u001b[0;31m---------------------------------------------------------------------------\u001b[0m",
      "\u001b[0;31mNameError\u001b[0m                                 Traceback (most recent call last)",
      "\u001b[0;32m<ipython-input-7-bf996f47845a>\u001b[0m in \u001b[0;36m<module>\u001b[0;34m()\u001b[0m\n\u001b[0;32m----> 1\u001b[0;31m \u001b[0mstruct_0\u001b[0m \u001b[0;34m=\u001b[0m \u001b[0mkmbio\u001b[0m\u001b[0;34m.\u001b[0m\u001b[0mPDB\u001b[0m\u001b[0;34m.\u001b[0m\u001b[0mMMCIFParser\u001b[0m\u001b[0;34m(\u001b[0m\u001b[0mignore_auth_id\u001b[0m\u001b[0;34m=\u001b[0m\u001b[0;32mTrue\u001b[0m\u001b[0;34m)\u001b[0m\u001b[0;34m.\u001b[0m\u001b[0mget_structure\u001b[0m\u001b[0;34m(\u001b[0m\u001b[0mbioassembly_files\u001b[0m\u001b[0;34m[\u001b[0m\u001b[0;36m0\u001b[0m\u001b[0;34m]\u001b[0m\u001b[0;34m)\u001b[0m\u001b[0;34m\u001b[0m\u001b[0m\n\u001b[0m",
      "\u001b[0;31mNameError\u001b[0m: name 'kmbio' is not defined"
     ]
    }
   ],
   "source": [
    "struct_0 = kmbio.PDB.MMCIFParser(ignore_auth_id=True).get_structure(bioassembly_files[0])"
   ]
  },
  {
   "cell_type": "code",
   "execution_count": 19,
   "metadata": {},
   "outputs": [
    {
     "data": {
      "text/plain": [
       "['A',\n",
       " 'B',\n",
       " 'C',\n",
       " 'D',\n",
       " 'E',\n",
       " 'F',\n",
       " 'G',\n",
       " 'H',\n",
       " 'I',\n",
       " 'J',\n",
       " 'K',\n",
       " 'L',\n",
       " 'M',\n",
       " 'N',\n",
       " 'O',\n",
       " 'P',\n",
       " 'Q',\n",
       " 'R',\n",
       " 'S',\n",
       " 'T',\n",
       " 'U',\n",
       " 'V',\n",
       " 'W',\n",
       " 'X']"
      ]
     },
     "execution_count": 19,
     "metadata": {},
     "output_type": "execute_result"
    }
   ],
   "source": [
    "list(struct[0])"
   ]
  },
  {
   "cell_type": "code",
   "execution_count": 24,
   "metadata": {},
   "outputs": [
    {
     "data": {
      "text/plain": [
       "['A', 'B', 'C', 'D', 'E', 'F', 'G', 'H']"
      ]
     },
     "execution_count": 24,
     "metadata": {},
     "output_type": "execute_result"
    }
   ],
   "source": [
    "list(struct_0[0])"
   ]
  },
  {
   "cell_type": "code",
   "execution_count": null,
   "metadata": {
    "collapsed": true
   },
   "outputs": [],
   "source": []
  },
  {
   "cell_type": "code",
   "execution_count": 145,
   "metadata": {
    "run_control": {
     "marked": false
    }
   },
   "outputs": [
    {
     "ename": "UnicodeDecodeError",
     "evalue": "'utf-8' codec can't decode byte 0x8b in position 1: invalid start byte",
     "output_type": "error",
     "traceback": [
      "\u001b[0;31m---------------------------------------------------------------------------\u001b[0m",
      "\u001b[0;31mUnicodeDecodeError\u001b[0m                        Traceback (most recent call last)",
      "\u001b[0;32m<ipython-input-145-4114796d13f0>\u001b[0m in \u001b[0;36m<module>\u001b[0;34m()\u001b[0m\n\u001b[0;32m----> 1\u001b[0;31m \u001b[0msdict\u001b[0m \u001b[0;34m=\u001b[0m \u001b[0mkmbio\u001b[0m\u001b[0;34m.\u001b[0m\u001b[0mPDB\u001b[0m\u001b[0;34m.\u001b[0m\u001b[0mMMCIF2Dict\u001b[0m\u001b[0;34m(\u001b[0m\u001b[0mcif_file\u001b[0m\u001b[0;34m)\u001b[0m\u001b[0;34m\u001b[0m\u001b[0m\n\u001b[0m\u001b[1;32m      2\u001b[0m \u001b[0mstruct\u001b[0m \u001b[0;34m=\u001b[0m \u001b[0mkmbio\u001b[0m\u001b[0;34m.\u001b[0m\u001b[0mPDB\u001b[0m\u001b[0;34m.\u001b[0m\u001b[0mMMCIFParser\u001b[0m\u001b[0;34m(\u001b[0m\u001b[0mignore_auth_id\u001b[0m\u001b[0;34m=\u001b[0m\u001b[0;32mTrue\u001b[0m\u001b[0;34m)\u001b[0m\u001b[0;34m.\u001b[0m\u001b[0mget_structure\u001b[0m\u001b[0;34m(\u001b[0m\u001b[0mcif_file\u001b[0m\u001b[0;34m)\u001b[0m\u001b[0;34m\u001b[0m\u001b[0m\n",
      "\u001b[0;32m/home/kimlab1/strokach/working/kmbio/kmbio/PDB/_mmcif_to_dict.pyx\u001b[0m in \u001b[0;36mkmbio.PDB._mmcif_to_dict.MMCIF2Dict.__init__ (kmbio/PDB/_mmcif_to_dict.c:1978)\u001b[0;34m()\u001b[0m\n",
      "\u001b[0;32m/home/kimlab1/strokach/working/kmbio/kmbio/PDB/_mmcif_to_dict.pyx\u001b[0m in \u001b[0;36mkmbio.PDB._mmcif_to_dict.MMCIF2Dict.__init__ (kmbio/PDB/_mmcif_to_dict.c:1550)\u001b[0;34m()\u001b[0m\n",
      "\u001b[0;32m/home/kimlab1/strokach/working/kmbio/kmbio/PDB/_mmcif_to_dict.pyx\u001b[0m in \u001b[0;36m_tokenize (kmbio/PDB/_mmcif_to_dict.c:2223)\u001b[0;34m()\u001b[0m\n",
      "\u001b[0;32m/home/kimlab1/strokach/anaconda3/lib/python3.6/codecs.py\u001b[0m in \u001b[0;36mdecode\u001b[0;34m(self, input, final)\u001b[0m\n\u001b[1;32m    319\u001b[0m         \u001b[0;31m# decode input (taking the buffer into account)\u001b[0m\u001b[0;34m\u001b[0m\u001b[0;34m\u001b[0m\u001b[0m\n\u001b[1;32m    320\u001b[0m         \u001b[0mdata\u001b[0m \u001b[0;34m=\u001b[0m \u001b[0mself\u001b[0m\u001b[0;34m.\u001b[0m\u001b[0mbuffer\u001b[0m \u001b[0;34m+\u001b[0m \u001b[0minput\u001b[0m\u001b[0;34m\u001b[0m\u001b[0m\n\u001b[0;32m--> 321\u001b[0;31m         \u001b[0;34m(\u001b[0m\u001b[0mresult\u001b[0m\u001b[0;34m,\u001b[0m \u001b[0mconsumed\u001b[0m\u001b[0;34m)\u001b[0m \u001b[0;34m=\u001b[0m \u001b[0mself\u001b[0m\u001b[0;34m.\u001b[0m\u001b[0m_buffer_decode\u001b[0m\u001b[0;34m(\u001b[0m\u001b[0mdata\u001b[0m\u001b[0;34m,\u001b[0m \u001b[0mself\u001b[0m\u001b[0;34m.\u001b[0m\u001b[0merrors\u001b[0m\u001b[0;34m,\u001b[0m \u001b[0mfinal\u001b[0m\u001b[0;34m)\u001b[0m\u001b[0;34m\u001b[0m\u001b[0m\n\u001b[0m\u001b[1;32m    322\u001b[0m         \u001b[0;31m# keep undecoded input until the next call\u001b[0m\u001b[0;34m\u001b[0m\u001b[0;34m\u001b[0m\u001b[0m\n\u001b[1;32m    323\u001b[0m         \u001b[0mself\u001b[0m\u001b[0;34m.\u001b[0m\u001b[0mbuffer\u001b[0m \u001b[0;34m=\u001b[0m \u001b[0mdata\u001b[0m\u001b[0;34m[\u001b[0m\u001b[0mconsumed\u001b[0m\u001b[0;34m:\u001b[0m\u001b[0;34m]\u001b[0m\u001b[0;34m\u001b[0m\u001b[0m\n",
      "\u001b[0;31mUnicodeDecodeError\u001b[0m: 'utf-8' codec can't decode byte 0x8b in position 1: invalid start byte"
     ]
    }
   ],
   "source": [
    "\n"
   ]
  },
  {
   "cell_type": "code",
   "execution_count": 123,
   "metadata": {},
   "outputs": [
    {
     "data": {
      "text/plain": [
       "<Chain id=A>"
      ]
     },
     "execution_count": 123,
     "metadata": {},
     "output_type": "execute_result"
    }
   ],
   "source": [
    "gen = struct.get_chains().send(None)\n",
    "gen"
   ]
  },
  {
   "cell_type": "code",
   "execution_count": 124,
   "metadata": {
    "run_control": {
     "marked": false
    }
   },
   "outputs": [
    {
     "data": {
      "text/html": [
       "<div>\n",
       "<style>\n",
       "    .dataframe thead tr:only-child th {\n",
       "        text-align: right;\n",
       "    }\n",
       "\n",
       "    .dataframe thead th {\n",
       "        text-align: left;\n",
       "    }\n",
       "\n",
       "    .dataframe tbody tr th {\n",
       "        vertical-align: top;\n",
       "    }\n",
       "</style>\n",
       "<table border=\"1\" class=\"dataframe\">\n",
       "  <thead>\n",
       "    <tr style=\"text-align: right;\">\n",
       "      <th></th>\n",
       "      <th>_pdbx_struct_assembly.details</th>\n",
       "      <th>_pdbx_struct_assembly.method_details</th>\n",
       "      <th>_pdbx_struct_assembly.oligomeric_count</th>\n",
       "      <th>_pdbx_struct_assembly.oligomeric_details</th>\n",
       "    </tr>\n",
       "    <tr>\n",
       "      <th>_pdbx_struct_assembly.id</th>\n",
       "      <th></th>\n",
       "      <th></th>\n",
       "      <th></th>\n",
       "      <th></th>\n",
       "    </tr>\n",
       "  </thead>\n",
       "  <tbody>\n",
       "    <tr>\n",
       "      <th>1</th>\n",
       "      <td>author_and_software_defined_assembly</td>\n",
       "      <td>PISA</td>\n",
       "      <td>2</td>\n",
       "      <td>dimeric</td>\n",
       "    </tr>\n",
       "    <tr>\n",
       "      <th>2</th>\n",
       "      <td>author_and_software_defined_assembly</td>\n",
       "      <td>PISA</td>\n",
       "      <td>2</td>\n",
       "      <td>dimeric</td>\n",
       "    </tr>\n",
       "    <tr>\n",
       "      <th>3</th>\n",
       "      <td>author_and_software_defined_assembly</td>\n",
       "      <td>PISA</td>\n",
       "      <td>2</td>\n",
       "      <td>dimeric</td>\n",
       "    </tr>\n",
       "    <tr>\n",
       "      <th>4</th>\n",
       "      <td>author_and_software_defined_assembly</td>\n",
       "      <td>PISA</td>\n",
       "      <td>2</td>\n",
       "      <td>dimeric</td>\n",
       "    </tr>\n",
       "    <tr>\n",
       "      <th>5</th>\n",
       "      <td>author_and_software_defined_assembly</td>\n",
       "      <td>PISA</td>\n",
       "      <td>2</td>\n",
       "      <td>dimeric</td>\n",
       "    </tr>\n",
       "  </tbody>\n",
       "</table>\n",
       "</div>"
      ],
      "text/plain": [
       "                                 _pdbx_struct_assembly.details  \\\n",
       "_pdbx_struct_assembly.id                                         \n",
       "1                         author_and_software_defined_assembly   \n",
       "2                         author_and_software_defined_assembly   \n",
       "3                         author_and_software_defined_assembly   \n",
       "4                         author_and_software_defined_assembly   \n",
       "5                         author_and_software_defined_assembly   \n",
       "\n",
       "                         _pdbx_struct_assembly.method_details  \\\n",
       "_pdbx_struct_assembly.id                                        \n",
       "1                                                        PISA   \n",
       "2                                                        PISA   \n",
       "3                                                        PISA   \n",
       "4                                                        PISA   \n",
       "5                                                        PISA   \n",
       "\n",
       "                         _pdbx_struct_assembly.oligomeric_count  \\\n",
       "_pdbx_struct_assembly.id                                          \n",
       "1                                                             2   \n",
       "2                                                             2   \n",
       "3                                                             2   \n",
       "4                                                             2   \n",
       "5                                                             2   \n",
       "\n",
       "                         _pdbx_struct_assembly.oligomeric_details  \n",
       "_pdbx_struct_assembly.id                                           \n",
       "1                                                         dimeric  \n",
       "2                                                         dimeric  \n",
       "3                                                         dimeric  \n",
       "4                                                         dimeric  \n",
       "5                                                         dimeric  "
      ]
     },
     "execution_count": 124,
     "metadata": {},
     "output_type": "execute_result"
    }
   ],
   "source": [
    "_pdbx_struct_assembly_df = mmcif_key_to_dataframe(sdict, '_pdbx_struct_assembly')\n",
    "_pdbx_struct_assembly_df.set_index('_pdbx_struct_assembly.id', inplace=True)\n",
    "_pdbx_struct_assembly_df.head()"
   ]
  },
  {
   "cell_type": "code",
   "execution_count": 125,
   "metadata": {},
   "outputs": [
    {
     "data": {
      "text/html": [
       "<div>\n",
       "<style>\n",
       "    .dataframe thead tr:only-child th {\n",
       "        text-align: right;\n",
       "    }\n",
       "\n",
       "    .dataframe thead th {\n",
       "        text-align: left;\n",
       "    }\n",
       "\n",
       "    .dataframe tbody tr th {\n",
       "        vertical-align: top;\n",
       "    }\n",
       "</style>\n",
       "<table border=\"1\" class=\"dataframe\">\n",
       "  <thead>\n",
       "    <tr style=\"text-align: right;\">\n",
       "      <th></th>\n",
       "      <th>_pdbx_struct_assembly_gen.asym_id_list</th>\n",
       "      <th>_pdbx_struct_assembly_gen.oper_expression</th>\n",
       "    </tr>\n",
       "    <tr>\n",
       "      <th>_pdbx_struct_assembly_gen.assembly_id</th>\n",
       "      <th></th>\n",
       "      <th></th>\n",
       "    </tr>\n",
       "  </thead>\n",
       "  <tbody>\n",
       "    <tr>\n",
       "      <th>1</th>\n",
       "      <td>A,B,M,N</td>\n",
       "      <td>1</td>\n",
       "    </tr>\n",
       "    <tr>\n",
       "      <th>2</th>\n",
       "      <td>C,D,O,P</td>\n",
       "      <td>1</td>\n",
       "    </tr>\n",
       "    <tr>\n",
       "      <th>3</th>\n",
       "      <td>E,F,Q,R</td>\n",
       "      <td>1</td>\n",
       "    </tr>\n",
       "    <tr>\n",
       "      <th>4</th>\n",
       "      <td>G,H,S,T</td>\n",
       "      <td>1</td>\n",
       "    </tr>\n",
       "    <tr>\n",
       "      <th>5</th>\n",
       "      <td>I,J,U,V</td>\n",
       "      <td>1</td>\n",
       "    </tr>\n",
       "  </tbody>\n",
       "</table>\n",
       "</div>"
      ],
      "text/plain": [
       "                                      _pdbx_struct_assembly_gen.asym_id_list  \\\n",
       "_pdbx_struct_assembly_gen.assembly_id                                          \n",
       "1                                                                    A,B,M,N   \n",
       "2                                                                    C,D,O,P   \n",
       "3                                                                    E,F,Q,R   \n",
       "4                                                                    G,H,S,T   \n",
       "5                                                                    I,J,U,V   \n",
       "\n",
       "                                      _pdbx_struct_assembly_gen.oper_expression  \n",
       "_pdbx_struct_assembly_gen.assembly_id                                            \n",
       "1                                                                             1  \n",
       "2                                                                             1  \n",
       "3                                                                             1  \n",
       "4                                                                             1  \n",
       "5                                                                             1  "
      ]
     },
     "execution_count": 125,
     "metadata": {},
     "output_type": "execute_result"
    }
   ],
   "source": [
    "_pdbx_struct_assembly_gen_df = mmcif_key_to_dataframe(sdict, '_pdbx_struct_assembly_gen')\n",
    "_pdbx_struct_assembly_gen_df.set_index('_pdbx_struct_assembly_gen.assembly_id', inplace=True)\n",
    "_pdbx_struct_assembly_gen_df.head()"
   ]
  },
  {
   "cell_type": "code",
   "execution_count": 129,
   "metadata": {},
   "outputs": [
    {
     "data": {
      "text/html": [
       "<div>\n",
       "<style>\n",
       "    .dataframe thead tr:only-child th {\n",
       "        text-align: right;\n",
       "    }\n",
       "\n",
       "    .dataframe thead th {\n",
       "        text-align: left;\n",
       "    }\n",
       "\n",
       "    .dataframe tbody tr th {\n",
       "        vertical-align: top;\n",
       "    }\n",
       "</style>\n",
       "<table border=\"1\" class=\"dataframe\">\n",
       "  <thead>\n",
       "    <tr style=\"text-align: right;\">\n",
       "      <th></th>\n",
       "      <th>_pdbx_struct_assembly_gen.asym_id_list</th>\n",
       "      <th>_pdbx_struct_assembly_gen.oper_expression</th>\n",
       "    </tr>\n",
       "    <tr>\n",
       "      <th>_pdbx_struct_assembly_gen.assembly_id</th>\n",
       "      <th></th>\n",
       "      <th></th>\n",
       "    </tr>\n",
       "  </thead>\n",
       "  <tbody>\n",
       "    <tr>\n",
       "      <th>1</th>\n",
       "      <td>A,B,M,N</td>\n",
       "      <td>1</td>\n",
       "    </tr>\n",
       "    <tr>\n",
       "      <th>2</th>\n",
       "      <td>C,D,O,P</td>\n",
       "      <td>1</td>\n",
       "    </tr>\n",
       "  </tbody>\n",
       "</table>\n",
       "</div>"
      ],
      "text/plain": [
       "                                      _pdbx_struct_assembly_gen.asym_id_list  \\\n",
       "_pdbx_struct_assembly_gen.assembly_id                                          \n",
       "1                                                                    A,B,M,N   \n",
       "2                                                                    C,D,O,P   \n",
       "\n",
       "                                      _pdbx_struct_assembly_gen.oper_expression  \n",
       "_pdbx_struct_assembly_gen.assembly_id                                            \n",
       "1                                                                             1  \n",
       "2                                                                             1  "
      ]
     },
     "execution_count": 129,
     "metadata": {},
     "output_type": "execute_result"
    }
   ],
   "source": [
    "_pdbx_struct_assembly_gen_df.loc[['1', '2']]"
   ]
  },
  {
   "cell_type": "code",
   "execution_count": 127,
   "metadata": {},
   "outputs": [
    {
     "data": {
      "text/html": [
       "<div>\n",
       "<style>\n",
       "    .dataframe thead tr:only-child th {\n",
       "        text-align: right;\n",
       "    }\n",
       "\n",
       "    .dataframe thead th {\n",
       "        text-align: left;\n",
       "    }\n",
       "\n",
       "    .dataframe tbody tr th {\n",
       "        vertical-align: top;\n",
       "    }\n",
       "</style>\n",
       "<table border=\"1\" class=\"dataframe\">\n",
       "  <thead>\n",
       "    <tr style=\"text-align: right;\">\n",
       "      <th></th>\n",
       "      <th>_pdbx_struct_oper_list.matrix[1][1]</th>\n",
       "      <th>_pdbx_struct_oper_list.matrix[1][2]</th>\n",
       "      <th>_pdbx_struct_oper_list.matrix[1][3]</th>\n",
       "      <th>_pdbx_struct_oper_list.matrix[2][1]</th>\n",
       "      <th>_pdbx_struct_oper_list.matrix[2][2]</th>\n",
       "      <th>_pdbx_struct_oper_list.matrix[2][3]</th>\n",
       "      <th>_pdbx_struct_oper_list.matrix[3][1]</th>\n",
       "      <th>_pdbx_struct_oper_list.matrix[3][2]</th>\n",
       "      <th>_pdbx_struct_oper_list.matrix[3][3]</th>\n",
       "      <th>_pdbx_struct_oper_list.name</th>\n",
       "      <th>_pdbx_struct_oper_list.symmetry_operation</th>\n",
       "      <th>_pdbx_struct_oper_list.type</th>\n",
       "      <th>_pdbx_struct_oper_list.vector[1]</th>\n",
       "      <th>_pdbx_struct_oper_list.vector[2]</th>\n",
       "      <th>_pdbx_struct_oper_list.vector[3]</th>\n",
       "      <th>rotation</th>\n",
       "      <th>translation</th>\n",
       "    </tr>\n",
       "    <tr>\n",
       "      <th>_pdbx_struct_oper_list.id</th>\n",
       "      <th></th>\n",
       "      <th></th>\n",
       "      <th></th>\n",
       "      <th></th>\n",
       "      <th></th>\n",
       "      <th></th>\n",
       "      <th></th>\n",
       "      <th></th>\n",
       "      <th></th>\n",
       "      <th></th>\n",
       "      <th></th>\n",
       "      <th></th>\n",
       "      <th></th>\n",
       "      <th></th>\n",
       "      <th></th>\n",
       "      <th></th>\n",
       "      <th></th>\n",
       "    </tr>\n",
       "  </thead>\n",
       "  <tbody>\n",
       "    <tr>\n",
       "      <th>1</th>\n",
       "      <td>1.0000000000</td>\n",
       "      <td>0.0000000000</td>\n",
       "      <td>0.0000000000</td>\n",
       "      <td>0.0000000000</td>\n",
       "      <td>1.0000000000</td>\n",
       "      <td>0.0000000000</td>\n",
       "      <td>0.0000000000</td>\n",
       "      <td>0.0000000000</td>\n",
       "      <td>1.0000000000</td>\n",
       "      <td>1_555</td>\n",
       "      <td>x,y,z</td>\n",
       "      <td>identity operation</td>\n",
       "      <td>0.0000000000</td>\n",
       "      <td>0.0000000000</td>\n",
       "      <td>0.0000000000</td>\n",
       "      <td>[[1.0, 0.0, 0.0], [0.0, 1.0, 0.0], [0.0, 0.0, ...</td>\n",
       "      <td>[0.0, 0.0, 0.0]</td>\n",
       "    </tr>\n",
       "  </tbody>\n",
       "</table>\n",
       "</div>"
      ],
      "text/plain": [
       "                          _pdbx_struct_oper_list.matrix[1][1]  \\\n",
       "_pdbx_struct_oper_list.id                                       \n",
       "1                                                1.0000000000   \n",
       "\n",
       "                          _pdbx_struct_oper_list.matrix[1][2]  \\\n",
       "_pdbx_struct_oper_list.id                                       \n",
       "1                                                0.0000000000   \n",
       "\n",
       "                          _pdbx_struct_oper_list.matrix[1][3]  \\\n",
       "_pdbx_struct_oper_list.id                                       \n",
       "1                                                0.0000000000   \n",
       "\n",
       "                          _pdbx_struct_oper_list.matrix[2][1]  \\\n",
       "_pdbx_struct_oper_list.id                                       \n",
       "1                                                0.0000000000   \n",
       "\n",
       "                          _pdbx_struct_oper_list.matrix[2][2]  \\\n",
       "_pdbx_struct_oper_list.id                                       \n",
       "1                                                1.0000000000   \n",
       "\n",
       "                          _pdbx_struct_oper_list.matrix[2][3]  \\\n",
       "_pdbx_struct_oper_list.id                                       \n",
       "1                                                0.0000000000   \n",
       "\n",
       "                          _pdbx_struct_oper_list.matrix[3][1]  \\\n",
       "_pdbx_struct_oper_list.id                                       \n",
       "1                                                0.0000000000   \n",
       "\n",
       "                          _pdbx_struct_oper_list.matrix[3][2]  \\\n",
       "_pdbx_struct_oper_list.id                                       \n",
       "1                                                0.0000000000   \n",
       "\n",
       "                          _pdbx_struct_oper_list.matrix[3][3]  \\\n",
       "_pdbx_struct_oper_list.id                                       \n",
       "1                                                1.0000000000   \n",
       "\n",
       "                          _pdbx_struct_oper_list.name  \\\n",
       "_pdbx_struct_oper_list.id                               \n",
       "1                                               1_555   \n",
       "\n",
       "                          _pdbx_struct_oper_list.symmetry_operation  \\\n",
       "_pdbx_struct_oper_list.id                                             \n",
       "1                                                             x,y,z   \n",
       "\n",
       "                          _pdbx_struct_oper_list.type  \\\n",
       "_pdbx_struct_oper_list.id                               \n",
       "1                                  identity operation   \n",
       "\n",
       "                          _pdbx_struct_oper_list.vector[1]  \\\n",
       "_pdbx_struct_oper_list.id                                    \n",
       "1                                             0.0000000000   \n",
       "\n",
       "                          _pdbx_struct_oper_list.vector[2]  \\\n",
       "_pdbx_struct_oper_list.id                                    \n",
       "1                                             0.0000000000   \n",
       "\n",
       "                          _pdbx_struct_oper_list.vector[3]  \\\n",
       "_pdbx_struct_oper_list.id                                    \n",
       "1                                             0.0000000000   \n",
       "\n",
       "                                                                    rotation  \\\n",
       "_pdbx_struct_oper_list.id                                                      \n",
       "1                          [[1.0, 0.0, 0.0], [0.0, 1.0, 0.0], [0.0, 0.0, ...   \n",
       "\n",
       "                               translation  \n",
       "_pdbx_struct_oper_list.id                   \n",
       "1                          [0.0, 0.0, 0.0]  "
      ]
     },
     "execution_count": 127,
     "metadata": {},
     "output_type": "execute_result"
    }
   ],
   "source": [
    "# Additional data that is not needed now\n",
    "# _pdbx_struct_assembly_prop_df = mmcif_key_to_dataframe(sdict, '_pdbx_struct_assembly_prop')\n",
    "_pdbx_struct_oper_list_df = mmcif_key_to_dataframe(sdict, '_pdbx_struct_oper_list')\n",
    "_pdbx_struct_oper_list_df['rotation'] = _pdbx_struct_oper_list_df.apply(get_rotation, axis=1)\n",
    "_pdbx_struct_oper_list_df['translation'] = _pdbx_struct_oper_list_df.apply(get_translation, axis=1)\n",
    "_pdbx_struct_oper_list_df.set_index('_pdbx_struct_oper_list.id', inplace=True)\n",
    "_pdbx_struct_oper_list_df.head()"
   ]
  },
  {
   "cell_type": "code",
   "execution_count": 26,
   "metadata": {},
   "outputs": [
    {
     "ename": "AttributeError",
     "evalue": "type object 'MMCIFParser' has no attribute 'mmcif_key_to_dataframe'",
     "output_type": "error",
     "traceback": [
      "\u001b[0;31m---------------------------------------------------------------------------\u001b[0m",
      "\u001b[0;31mAttributeError\u001b[0m                            Traceback (most recent call last)",
      "\u001b[0;32m<ipython-input-26-d204002714cf>\u001b[0m in \u001b[0;36m<module>\u001b[0;34m()\u001b[0m\n\u001b[1;32m      1\u001b[0m \u001b[0;31m# Additional data that is not needed now\u001b[0m\u001b[0;34m\u001b[0m\u001b[0;34m\u001b[0m\u001b[0m\n\u001b[1;32m      2\u001b[0m \u001b[0;31m# _pdbx_struct_assembly_prop_df = mmcif_key_to_dataframe(sdict, '_pdbx_struct_assembly_prop')\u001b[0m\u001b[0;34m\u001b[0m\u001b[0;34m\u001b[0m\u001b[0m\n\u001b[0;32m----> 3\u001b[0;31m \u001b[0m_pdbx_struct_assembly_gen_depositor_info\u001b[0m \u001b[0;34m=\u001b[0m \u001b[0mkmbio\u001b[0m\u001b[0;34m.\u001b[0m\u001b[0mPDB\u001b[0m\u001b[0;34m.\u001b[0m\u001b[0mMMCIFParser\u001b[0m\u001b[0;34m.\u001b[0m\u001b[0mmmcif_key_to_dataframe\u001b[0m\u001b[0;34m(\u001b[0m\u001b[0msdict\u001b[0m\u001b[0;34m,\u001b[0m \u001b[0;34m'_pdbx_struct_assembly_gen_depositor_info'\u001b[0m\u001b[0;34m)\u001b[0m\u001b[0;34m\u001b[0m\u001b[0m\n\u001b[0m\u001b[1;32m      4\u001b[0m \u001b[0m_pdbx_struct_assembly_gen_depositor_info\u001b[0m\u001b[0;34m[\u001b[0m\u001b[0;34m'rotation'\u001b[0m\u001b[0;34m]\u001b[0m \u001b[0;34m=\u001b[0m \u001b[0m_pdbx_struct_oper_list_df\u001b[0m\u001b[0;34m.\u001b[0m\u001b[0mapply\u001b[0m\u001b[0;34m(\u001b[0m\u001b[0mget_rotation\u001b[0m\u001b[0;34m,\u001b[0m \u001b[0maxis\u001b[0m\u001b[0;34m=\u001b[0m\u001b[0;36m1\u001b[0m\u001b[0;34m)\u001b[0m\u001b[0;34m\u001b[0m\u001b[0m\n\u001b[1;32m      5\u001b[0m \u001b[0m_pdbx_struct_oper_list_df\u001b[0m\u001b[0;34m[\u001b[0m\u001b[0;34m'translation'\u001b[0m\u001b[0;34m]\u001b[0m \u001b[0;34m=\u001b[0m \u001b[0m_pdbx_struct_oper_list_df\u001b[0m\u001b[0;34m.\u001b[0m\u001b[0mapply\u001b[0m\u001b[0;34m(\u001b[0m\u001b[0mget_translation\u001b[0m\u001b[0;34m,\u001b[0m \u001b[0maxis\u001b[0m\u001b[0;34m=\u001b[0m\u001b[0;36m1\u001b[0m\u001b[0;34m)\u001b[0m\u001b[0;34m\u001b[0m\u001b[0m\n",
      "\u001b[0;31mAttributeError\u001b[0m: type object 'MMCIFParser' has no attribute 'mmcif_key_to_dataframe'"
     ]
    }
   ],
   "source": [
    "# Additional data that is not needed now\n",
    "# _pdbx_struct_assembly_prop_df = mmcif_key_to_dataframe(sdict, '_pdbx_struct_assembly_prop')\n",
    "_pdbx_struct_assembly_gen_depositor_info = kmbio.PDB.MMCIFParser.mmcif_key_to_dataframe(sdict, '_pdbx_struct_assembly_gen_depositor_info')\n",
    "_pdbx_struct_assembly_gen_depositor_info['rotation'] = _pdbx_struct_oper_list_df.apply(get_rotation, axis=1)\n",
    "_pdbx_struct_oper_list_df['translation'] = _pdbx_struct_oper_list_df.apply(get_translation, axis=1)\n",
    "_pdbx_struct_assembly_gen_depositor_info.set_index('_pdbx_struct_oper_list.id', inplace=True)\n",
    "_pdbx_struct_assembly_gen_depositor_info.head()"
   ]
  },
  {
   "cell_type": "code",
   "execution_count": 63,
   "metadata": {},
   "outputs": [
    {
     "name": "stdout",
     "output_type": "stream",
     "text": [
      "1 [[1.0, 0.0, 0.0], [0.0, 1.0, 0.0], [0.0, 0.0, 1.0]] [0.0, 0.0, 0.0]\n"
     ]
    }
   ],
   "source": [
    "for oper_list_id, (rotation, translation) in (\n",
    "        _pdbx_struct_oper_list_df\n",
    "        .set_index('_pdbx_struct_oper_list.id')\n",
    "        [['rotation', 'translation']]\n",
    "        .iterrows()):\n",
    "    print(oper_list_id, rotation, translation)"
   ]
  },
  {
   "cell_type": "code",
   "execution_count": 142,
   "metadata": {},
   "outputs": [],
   "source": [
    "assembly_id = '1'\n",
    "\n",
    "asym_id_list = _pdbx_struct_assembly_gen_df.at[assembly_id, '_pdbx_struct_assembly_gen.asym_id_list']\n",
    "oper_expression = _pdbx_struct_assembly_gen_df.at[assembly_id, '_pdbx_struct_assembly_gen.oper_expression']\n",
    "\n",
    "structure = kmbio.PDB.Structure.Structure(pdb_id)\n",
    "\n",
    "for i, oper in enumerate(oper_expression.split(',')):\n",
    "    model = kmbio.PDB.Model.Model(i)\n",
    "    structure.add(model)\n",
    "    for asym_id in asym_id_list.split(','):\n",
    "        chain = struct[0][asym_id].copy()\n",
    "        model.add(chain)\n",
    "    rotation = _pdbx_struct_oper_list_df.at[oper, 'rotation']\n",
    "    translation = _pdbx_struct_oper_list_df.at[oper, 'translation']\n",
    "    model.transform(rotation, translation)\n",
    "    \n",
    "io = kmbio.PDB.PDBIO()\n",
    "io.set_structure(structure)\n",
    "io.save('{}-{}.cif'.format(pdb_id, assembly_id), select=kmbio.PDB.Select())"
   ]
  },
  {
   "cell_type": "code",
   "execution_count": 143,
   "metadata": {},
   "outputs": [
    {
     "name": "stdout",
     "output_type": "stream",
     "text": [
      "2ou1-1.cif  explore_mmcif_bioassembly.html\r\n",
      "2ou1.cif    explore_mmcif_bioassembly.ipynb\r\n"
     ]
    }
   ],
   "source": [
    "!ls"
   ]
  },
  {
   "cell_type": "code",
   "execution_count": null,
   "metadata": {
    "collapsed": true
   },
   "outputs": [],
   "source": []
  },
  {
   "cell_type": "code",
   "execution_count": null,
   "metadata": {
    "collapsed": true
   },
   "outputs": [],
   "source": []
  },
  {
   "cell_type": "code",
   "execution_count": null,
   "metadata": {
    "collapsed": true
   },
   "outputs": [],
   "source": []
  },
  {
   "cell_type": "code",
   "execution_count": null,
   "metadata": {
    "collapsed": true
   },
   "outputs": [],
   "source": [
    "new_str"
   ]
  },
  {
   "cell_type": "code",
   "execution_count": null,
   "metadata": {
    "collapsed": true
   },
   "outputs": [],
   "source": []
  },
  {
   "cell_type": "code",
   "execution_count": null,
   "metadata": {
    "collapsed": true
   },
   "outputs": [],
   "source": []
  },
  {
   "cell_type": "code",
   "execution_count": null,
   "metadata": {
    "collapsed": true
   },
   "outputs": [],
   "source": []
  },
  {
   "cell_type": "code",
   "execution_count": null,
   "metadata": {
    "collapsed": true
   },
   "outputs": [],
   "source": []
  },
  {
   "cell_type": "code",
   "execution_count": null,
   "metadata": {
    "collapsed": true
   },
   "outputs": [],
   "source": []
  },
  {
   "cell_type": "code",
   "execution_count": null,
   "metadata": {
    "collapsed": true
   },
   "outputs": [],
   "source": []
  },
  {
   "cell_type": "code",
   "execution_count": null,
   "metadata": {
    "collapsed": true
   },
   "outputs": [],
   "source": []
  },
  {
   "cell_type": "code",
   "execution_count": 114,
   "metadata": {},
   "outputs": [
    {
     "ename": "TypeError",
     "evalue": "__call__() takes from 1 to 2 positional arguments but 3 were given",
     "output_type": "error",
     "traceback": [
      "\u001b[0;31m---------------------------------------------------------------------------\u001b[0m",
      "\u001b[0;31mTypeError\u001b[0m                                 Traceback (most recent call last)",
      "\u001b[0;32m<ipython-input-114-678675aa9160>\u001b[0m in \u001b[0;36m<module>\u001b[0;34m()\u001b[0m\n\u001b[1;32m      3\u001b[0m \u001b[0;34m\u001b[0m\u001b[0m\n\u001b[1;32m      4\u001b[0m \u001b[0;34m\u001b[0m\u001b[0m\n\u001b[0;32m----> 5\u001b[0;31m \u001b[0masym_id_list\u001b[0m \u001b[0;34m=\u001b[0m \u001b[0m_pdbx_struct_assembly_gen_df\u001b[0m\u001b[0;34m.\u001b[0m\u001b[0mat\u001b[0m\u001b[0;34m(\u001b[0m\u001b[0massembly_id\u001b[0m\u001b[0;34m,\u001b[0m \u001b[0;34m'_pdbx_struct_assembly_gen.asym_id_list'\u001b[0m\u001b[0;34m)\u001b[0m\u001b[0;34m\u001b[0m\u001b[0m\n\u001b[0m\u001b[1;32m      6\u001b[0m \u001b[0moper_expression\u001b[0m \u001b[0;34m=\u001b[0m \u001b[0m_pdbx_struct_assembly_gen_df\u001b[0m\u001b[0;34m.\u001b[0m\u001b[0mat\u001b[0m\u001b[0;34m(\u001b[0m\u001b[0massembly_id\u001b[0m\u001b[0;34m,\u001b[0m \u001b[0;34m'_pdbx_struct_assembly_gen.oper_expression'\u001b[0m\u001b[0;34m)\u001b[0m\u001b[0;34m\u001b[0m\u001b[0m\n\u001b[1;32m      7\u001b[0m \u001b[0;34m\u001b[0m\u001b[0m\n",
      "\u001b[0;31mTypeError\u001b[0m: __call__() takes from 1 to 2 positional arguments but 3 were given"
     ]
    }
   ],
   "source": [
    "        \n",
    "for oper_list_id, (rotation, translation) in (\n",
    "        _pdbx_struct_oper_list_df\n",
    "        .set_index('_pdbx_struct_oper_list.id')\n",
    "        [['rotation', 'translation']]\n",
    "        .iterrows()):\n",
    "    print(oper_list_id, rotation, translation)\n",
    "    \n",
    "    \n",
    "    hetatm_chain = \n",
    "\n",
    "    \n",
    "    df"
   ]
  },
  {
   "cell_type": "code",
   "execution_count": null,
   "metadata": {
    "collapsed": true
   },
   "outputs": [],
   "source": [
    "assert len(_pdbx_struct_assembly_df) == len(_pdbx_struct_assembly_gen_df)\n"
   ]
  },
  {
   "cell_type": "code",
   "execution_count": 50,
   "metadata": {},
   "outputs": [
    {
     "data": {
      "text/html": [
       "<div>\n",
       "<style>\n",
       "    .dataframe thead tr:only-child th {\n",
       "        text-align: right;\n",
       "    }\n",
       "\n",
       "    .dataframe thead th {\n",
       "        text-align: left;\n",
       "    }\n",
       "\n",
       "    .dataframe tbody tr th {\n",
       "        vertical-align: top;\n",
       "    }\n",
       "</style>\n",
       "<table border=\"1\" class=\"dataframe\">\n",
       "  <thead>\n",
       "    <tr style=\"text-align: right;\">\n",
       "      <th></th>\n",
       "      <th>_pdbx_struct_assembly.details</th>\n",
       "      <th>_pdbx_struct_assembly.id</th>\n",
       "      <th>_pdbx_struct_assembly.method_details</th>\n",
       "      <th>_pdbx_struct_assembly.oligomeric_count</th>\n",
       "      <th>_pdbx_struct_assembly.oligomeric_details</th>\n",
       "      <th>_pdbx_struct_assembly_gen.assembly_id</th>\n",
       "      <th>_pdbx_struct_assembly_gen.asym_id_list</th>\n",
       "      <th>_pdbx_struct_assembly_gen.oper_expression</th>\n",
       "    </tr>\n",
       "  </thead>\n",
       "  <tbody>\n",
       "    <tr>\n",
       "      <th>0</th>\n",
       "      <td>author_and_software_defined_assembly</td>\n",
       "      <td>1</td>\n",
       "      <td>PISA</td>\n",
       "      <td>2</td>\n",
       "      <td>dimeric</td>\n",
       "      <td>1</td>\n",
       "      <td>A,B,M,N</td>\n",
       "      <td>1</td>\n",
       "    </tr>\n",
       "    <tr>\n",
       "      <th>1</th>\n",
       "      <td>author_and_software_defined_assembly</td>\n",
       "      <td>2</td>\n",
       "      <td>PISA</td>\n",
       "      <td>2</td>\n",
       "      <td>dimeric</td>\n",
       "      <td>2</td>\n",
       "      <td>C,D,O,P</td>\n",
       "      <td>1</td>\n",
       "    </tr>\n",
       "    <tr>\n",
       "      <th>2</th>\n",
       "      <td>author_and_software_defined_assembly</td>\n",
       "      <td>3</td>\n",
       "      <td>PISA</td>\n",
       "      <td>2</td>\n",
       "      <td>dimeric</td>\n",
       "      <td>3</td>\n",
       "      <td>E,F,Q,R</td>\n",
       "      <td>1</td>\n",
       "    </tr>\n",
       "    <tr>\n",
       "      <th>3</th>\n",
       "      <td>author_and_software_defined_assembly</td>\n",
       "      <td>4</td>\n",
       "      <td>PISA</td>\n",
       "      <td>2</td>\n",
       "      <td>dimeric</td>\n",
       "      <td>4</td>\n",
       "      <td>G,H,S,T</td>\n",
       "      <td>1</td>\n",
       "    </tr>\n",
       "    <tr>\n",
       "      <th>4</th>\n",
       "      <td>author_and_software_defined_assembly</td>\n",
       "      <td>5</td>\n",
       "      <td>PISA</td>\n",
       "      <td>2</td>\n",
       "      <td>dimeric</td>\n",
       "      <td>5</td>\n",
       "      <td>I,J,U,V</td>\n",
       "      <td>1</td>\n",
       "    </tr>\n",
       "  </tbody>\n",
       "</table>\n",
       "</div>"
      ],
      "text/plain": [
       "          _pdbx_struct_assembly.details _pdbx_struct_assembly.id  \\\n",
       "0  author_and_software_defined_assembly                        1   \n",
       "1  author_and_software_defined_assembly                        2   \n",
       "2  author_and_software_defined_assembly                        3   \n",
       "3  author_and_software_defined_assembly                        4   \n",
       "4  author_and_software_defined_assembly                        5   \n",
       "\n",
       "  _pdbx_struct_assembly.method_details _pdbx_struct_assembly.oligomeric_count  \\\n",
       "0                                 PISA                                      2   \n",
       "1                                 PISA                                      2   \n",
       "2                                 PISA                                      2   \n",
       "3                                 PISA                                      2   \n",
       "4                                 PISA                                      2   \n",
       "\n",
       "  _pdbx_struct_assembly.oligomeric_details  \\\n",
       "0                                  dimeric   \n",
       "1                                  dimeric   \n",
       "2                                  dimeric   \n",
       "3                                  dimeric   \n",
       "4                                  dimeric   \n",
       "\n",
       "  _pdbx_struct_assembly_gen.assembly_id  \\\n",
       "0                                     1   \n",
       "1                                     2   \n",
       "2                                     3   \n",
       "3                                     4   \n",
       "4                                     5   \n",
       "\n",
       "  _pdbx_struct_assembly_gen.asym_id_list  \\\n",
       "0                                A,B,M,N   \n",
       "1                                C,D,O,P   \n",
       "2                                E,F,Q,R   \n",
       "3                                G,H,S,T   \n",
       "4                                I,J,U,V   \n",
       "\n",
       "  _pdbx_struct_assembly_gen.oper_expression  \n",
       "0                                         1  \n",
       "1                                         1  \n",
       "2                                         1  \n",
       "3                                         1  \n",
       "4                                         1  "
      ]
     },
     "execution_count": 50,
     "metadata": {},
     "output_type": "execute_result"
    }
   ],
   "source": [
    "assert len(_pdbx_struct_assembly_df) == len(_pdbx_struct_assembly_df)\n",
    "assert len(_pdbx_struct_assembly_gen_df) == len(_pdbx_struct_assembly_gen_df)\n",
    "\n",
    "bioassembly_df = (\n",
    "    _pdbx_struct_assembly_df\n",
    "    .merge(\n",
    "        _pdbx_struct_assembly_gen_df, \n",
    "        left_on='_pdbx_struct_assembly.id',\n",
    "        right_on='_pdbx_struct_assembly_gen.assembly_id',\n",
    "        how='inner')\n",
    ")\n",
    "bioassembly_df.head()"
   ]
  },
  {
   "cell_type": "code",
   "execution_count": 58,
   "metadata": {},
   "outputs": [
    {
     "data": {
      "text/plain": [
       "'A,B,M,N'"
      ]
     },
     "execution_count": 58,
     "metadata": {},
     "output_type": "execute_result"
    }
   ],
   "source": []
  },
  {
   "cell_type": "code",
   "execution_count": null,
   "metadata": {
    "collapsed": true
   },
   "outputs": [],
   "source": [
    "    bioassembly_df = (\n",
    "        _pdbx_struct_assembly_df\n",
    "        .merge(\n",
    "            _pdbx_struct_assembly_gen_df, \n",
    "            left_on='_pdbx_struct_assembly.id',\n",
    "            right_on='_pdbx_struct_assembly_gen.assembly_id',\n",
    "            how='inner')\n",
    "        .merge(\n",
    "            _pdbx_struct_oper_list_df, \n",
    "            left_on='_pdbx_struct_assembly_gen.oper_expression',\n",
    "            right_on='_pdbx_struct_oper_list.id',\n",
    "            how='inner')\n",
    "    )\n",
    "    assert len(bioassembly_df) == len(_pdbx_struct_assembly_df)\n",
    "    assert not (set(bioassembly_df['_pdbx_struct_assembly.id']) ^ \n",
    "                set(_pdbx_struct_assembly_df['_pdbx_struct_assembly.id']))\n",
    "    return bioassembly_df"
   ]
  },
  {
   "cell_type": "code",
   "execution_count": null,
   "metadata": {
    "collapsed": true
   },
   "outputs": [],
   "source": [
    "for rotation, translation in "
   ]
  },
  {
   "cell_type": "code",
   "execution_count": 43,
   "metadata": {
    "run_control": {
     "marked": false
    }
   },
   "outputs": [
    {
     "data": {
      "text/html": [
       "<div>\n",
       "<style>\n",
       "    .dataframe thead tr:only-child th {\n",
       "        text-align: right;\n",
       "    }\n",
       "\n",
       "    .dataframe thead th {\n",
       "        text-align: left;\n",
       "    }\n",
       "\n",
       "    .dataframe tbody tr th {\n",
       "        vertical-align: top;\n",
       "    }\n",
       "</style>\n",
       "<table border=\"1\" class=\"dataframe\">\n",
       "  <thead>\n",
       "    <tr style=\"text-align: right;\">\n",
       "      <th></th>\n",
       "      <th>_pdbx_struct_assembly.details</th>\n",
       "      <th>_pdbx_struct_assembly.id</th>\n",
       "      <th>_pdbx_struct_assembly.method_details</th>\n",
       "      <th>_pdbx_struct_assembly.oligomeric_count</th>\n",
       "      <th>_pdbx_struct_assembly.oligomeric_details</th>\n",
       "      <th>_pdbx_struct_assembly_gen.assembly_id</th>\n",
       "      <th>_pdbx_struct_assembly_gen.asym_id_list</th>\n",
       "      <th>_pdbx_struct_assembly_gen.oper_expression</th>\n",
       "      <th>_pdbx_struct_oper_list.id</th>\n",
       "      <th>_pdbx_struct_oper_list.matrix[1][1]</th>\n",
       "      <th>...</th>\n",
       "      <th>_pdbx_struct_oper_list.matrix[3][2]</th>\n",
       "      <th>_pdbx_struct_oper_list.matrix[3][3]</th>\n",
       "      <th>_pdbx_struct_oper_list.name</th>\n",
       "      <th>_pdbx_struct_oper_list.symmetry_operation</th>\n",
       "      <th>_pdbx_struct_oper_list.type</th>\n",
       "      <th>_pdbx_struct_oper_list.vector[1]</th>\n",
       "      <th>_pdbx_struct_oper_list.vector[2]</th>\n",
       "      <th>_pdbx_struct_oper_list.vector[3]</th>\n",
       "      <th>rotation</th>\n",
       "      <th>translation</th>\n",
       "    </tr>\n",
       "  </thead>\n",
       "  <tbody>\n",
       "    <tr>\n",
       "      <th>0</th>\n",
       "      <td>author_and_software_defined_assembly</td>\n",
       "      <td>1</td>\n",
       "      <td>PISA</td>\n",
       "      <td>2</td>\n",
       "      <td>dimeric</td>\n",
       "      <td>1</td>\n",
       "      <td>A,B,M,N</td>\n",
       "      <td>1</td>\n",
       "      <td>1</td>\n",
       "      <td>1.0000000000</td>\n",
       "      <td>...</td>\n",
       "      <td>0.0000000000</td>\n",
       "      <td>1.0000000000</td>\n",
       "      <td>1_555</td>\n",
       "      <td>x,y,z</td>\n",
       "      <td>identity operation</td>\n",
       "      <td>0.0000000000</td>\n",
       "      <td>0.0000000000</td>\n",
       "      <td>0.0000000000</td>\n",
       "      <td>[[1.0, 0.0, 0.0], [0.0, 1.0, 0.0], [0.0, 0.0, ...</td>\n",
       "      <td>[0.0, 0.0, 0.0]</td>\n",
       "    </tr>\n",
       "    <tr>\n",
       "      <th>1</th>\n",
       "      <td>author_and_software_defined_assembly</td>\n",
       "      <td>2</td>\n",
       "      <td>PISA</td>\n",
       "      <td>2</td>\n",
       "      <td>dimeric</td>\n",
       "      <td>2</td>\n",
       "      <td>C,D,O,P</td>\n",
       "      <td>1</td>\n",
       "      <td>1</td>\n",
       "      <td>1.0000000000</td>\n",
       "      <td>...</td>\n",
       "      <td>0.0000000000</td>\n",
       "      <td>1.0000000000</td>\n",
       "      <td>1_555</td>\n",
       "      <td>x,y,z</td>\n",
       "      <td>identity operation</td>\n",
       "      <td>0.0000000000</td>\n",
       "      <td>0.0000000000</td>\n",
       "      <td>0.0000000000</td>\n",
       "      <td>[[1.0, 0.0, 0.0], [0.0, 1.0, 0.0], [0.0, 0.0, ...</td>\n",
       "      <td>[0.0, 0.0, 0.0]</td>\n",
       "    </tr>\n",
       "    <tr>\n",
       "      <th>2</th>\n",
       "      <td>author_and_software_defined_assembly</td>\n",
       "      <td>3</td>\n",
       "      <td>PISA</td>\n",
       "      <td>2</td>\n",
       "      <td>dimeric</td>\n",
       "      <td>3</td>\n",
       "      <td>E,F,Q,R</td>\n",
       "      <td>1</td>\n",
       "      <td>1</td>\n",
       "      <td>1.0000000000</td>\n",
       "      <td>...</td>\n",
       "      <td>0.0000000000</td>\n",
       "      <td>1.0000000000</td>\n",
       "      <td>1_555</td>\n",
       "      <td>x,y,z</td>\n",
       "      <td>identity operation</td>\n",
       "      <td>0.0000000000</td>\n",
       "      <td>0.0000000000</td>\n",
       "      <td>0.0000000000</td>\n",
       "      <td>[[1.0, 0.0, 0.0], [0.0, 1.0, 0.0], [0.0, 0.0, ...</td>\n",
       "      <td>[0.0, 0.0, 0.0]</td>\n",
       "    </tr>\n",
       "    <tr>\n",
       "      <th>3</th>\n",
       "      <td>author_and_software_defined_assembly</td>\n",
       "      <td>4</td>\n",
       "      <td>PISA</td>\n",
       "      <td>2</td>\n",
       "      <td>dimeric</td>\n",
       "      <td>4</td>\n",
       "      <td>G,H,S,T</td>\n",
       "      <td>1</td>\n",
       "      <td>1</td>\n",
       "      <td>1.0000000000</td>\n",
       "      <td>...</td>\n",
       "      <td>0.0000000000</td>\n",
       "      <td>1.0000000000</td>\n",
       "      <td>1_555</td>\n",
       "      <td>x,y,z</td>\n",
       "      <td>identity operation</td>\n",
       "      <td>0.0000000000</td>\n",
       "      <td>0.0000000000</td>\n",
       "      <td>0.0000000000</td>\n",
       "      <td>[[1.0, 0.0, 0.0], [0.0, 1.0, 0.0], [0.0, 0.0, ...</td>\n",
       "      <td>[0.0, 0.0, 0.0]</td>\n",
       "    </tr>\n",
       "    <tr>\n",
       "      <th>4</th>\n",
       "      <td>author_and_software_defined_assembly</td>\n",
       "      <td>5</td>\n",
       "      <td>PISA</td>\n",
       "      <td>2</td>\n",
       "      <td>dimeric</td>\n",
       "      <td>5</td>\n",
       "      <td>I,J,U,V</td>\n",
       "      <td>1</td>\n",
       "      <td>1</td>\n",
       "      <td>1.0000000000</td>\n",
       "      <td>...</td>\n",
       "      <td>0.0000000000</td>\n",
       "      <td>1.0000000000</td>\n",
       "      <td>1_555</td>\n",
       "      <td>x,y,z</td>\n",
       "      <td>identity operation</td>\n",
       "      <td>0.0000000000</td>\n",
       "      <td>0.0000000000</td>\n",
       "      <td>0.0000000000</td>\n",
       "      <td>[[1.0, 0.0, 0.0], [0.0, 1.0, 0.0], [0.0, 0.0, ...</td>\n",
       "      <td>[0.0, 0.0, 0.0]</td>\n",
       "    </tr>\n",
       "    <tr>\n",
       "      <th>5</th>\n",
       "      <td>author_and_software_defined_assembly</td>\n",
       "      <td>6</td>\n",
       "      <td>PISA</td>\n",
       "      <td>2</td>\n",
       "      <td>dimeric</td>\n",
       "      <td>6</td>\n",
       "      <td>K,L,W,X</td>\n",
       "      <td>1</td>\n",
       "      <td>1</td>\n",
       "      <td>1.0000000000</td>\n",
       "      <td>...</td>\n",
       "      <td>0.0000000000</td>\n",
       "      <td>1.0000000000</td>\n",
       "      <td>1_555</td>\n",
       "      <td>x,y,z</td>\n",
       "      <td>identity operation</td>\n",
       "      <td>0.0000000000</td>\n",
       "      <td>0.0000000000</td>\n",
       "      <td>0.0000000000</td>\n",
       "      <td>[[1.0, 0.0, 0.0], [0.0, 1.0, 0.0], [0.0, 0.0, ...</td>\n",
       "      <td>[0.0, 0.0, 0.0]</td>\n",
       "    </tr>\n",
       "    <tr>\n",
       "      <th>6</th>\n",
       "      <td>software_defined_assembly</td>\n",
       "      <td>7</td>\n",
       "      <td>PISA</td>\n",
       "      <td>4</td>\n",
       "      <td>tetrameric</td>\n",
       "      <td>7</td>\n",
       "      <td>E,F,G,H,Q,R,S,T</td>\n",
       "      <td>1</td>\n",
       "      <td>1</td>\n",
       "      <td>1.0000000000</td>\n",
       "      <td>...</td>\n",
       "      <td>0.0000000000</td>\n",
       "      <td>1.0000000000</td>\n",
       "      <td>1_555</td>\n",
       "      <td>x,y,z</td>\n",
       "      <td>identity operation</td>\n",
       "      <td>0.0000000000</td>\n",
       "      <td>0.0000000000</td>\n",
       "      <td>0.0000000000</td>\n",
       "      <td>[[1.0, 0.0, 0.0], [0.0, 1.0, 0.0], [0.0, 0.0, ...</td>\n",
       "      <td>[0.0, 0.0, 0.0]</td>\n",
       "    </tr>\n",
       "    <tr>\n",
       "      <th>7</th>\n",
       "      <td>software_defined_assembly</td>\n",
       "      <td>8</td>\n",
       "      <td>PISA</td>\n",
       "      <td>4</td>\n",
       "      <td>tetrameric</td>\n",
       "      <td>8</td>\n",
       "      <td>A,B,C,D,M,N,O,P</td>\n",
       "      <td>1</td>\n",
       "      <td>1</td>\n",
       "      <td>1.0000000000</td>\n",
       "      <td>...</td>\n",
       "      <td>0.0000000000</td>\n",
       "      <td>1.0000000000</td>\n",
       "      <td>1_555</td>\n",
       "      <td>x,y,z</td>\n",
       "      <td>identity operation</td>\n",
       "      <td>0.0000000000</td>\n",
       "      <td>0.0000000000</td>\n",
       "      <td>0.0000000000</td>\n",
       "      <td>[[1.0, 0.0, 0.0], [0.0, 1.0, 0.0], [0.0, 0.0, ...</td>\n",
       "      <td>[0.0, 0.0, 0.0]</td>\n",
       "    </tr>\n",
       "    <tr>\n",
       "      <th>8</th>\n",
       "      <td>software_defined_assembly</td>\n",
       "      <td>9</td>\n",
       "      <td>PISA</td>\n",
       "      <td>4</td>\n",
       "      <td>tetrameric</td>\n",
       "      <td>9</td>\n",
       "      <td>I,J,K,L,U,V,W,X</td>\n",
       "      <td>1</td>\n",
       "      <td>1</td>\n",
       "      <td>1.0000000000</td>\n",
       "      <td>...</td>\n",
       "      <td>0.0000000000</td>\n",
       "      <td>1.0000000000</td>\n",
       "      <td>1_555</td>\n",
       "      <td>x,y,z</td>\n",
       "      <td>identity operation</td>\n",
       "      <td>0.0000000000</td>\n",
       "      <td>0.0000000000</td>\n",
       "      <td>0.0000000000</td>\n",
       "      <td>[[1.0, 0.0, 0.0], [0.0, 1.0, 0.0], [0.0, 0.0, ...</td>\n",
       "      <td>[0.0, 0.0, 0.0]</td>\n",
       "    </tr>\n",
       "  </tbody>\n",
       "</table>\n",
       "<p>9 rows × 26 columns</p>\n",
       "</div>"
      ],
      "text/plain": [
       "          _pdbx_struct_assembly.details _pdbx_struct_assembly.id  \\\n",
       "0  author_and_software_defined_assembly                        1   \n",
       "1  author_and_software_defined_assembly                        2   \n",
       "2  author_and_software_defined_assembly                        3   \n",
       "3  author_and_software_defined_assembly                        4   \n",
       "4  author_and_software_defined_assembly                        5   \n",
       "5  author_and_software_defined_assembly                        6   \n",
       "6             software_defined_assembly                        7   \n",
       "7             software_defined_assembly                        8   \n",
       "8             software_defined_assembly                        9   \n",
       "\n",
       "  _pdbx_struct_assembly.method_details _pdbx_struct_assembly.oligomeric_count  \\\n",
       "0                                 PISA                                      2   \n",
       "1                                 PISA                                      2   \n",
       "2                                 PISA                                      2   \n",
       "3                                 PISA                                      2   \n",
       "4                                 PISA                                      2   \n",
       "5                                 PISA                                      2   \n",
       "6                                 PISA                                      4   \n",
       "7                                 PISA                                      4   \n",
       "8                                 PISA                                      4   \n",
       "\n",
       "  _pdbx_struct_assembly.oligomeric_details  \\\n",
       "0                                  dimeric   \n",
       "1                                  dimeric   \n",
       "2                                  dimeric   \n",
       "3                                  dimeric   \n",
       "4                                  dimeric   \n",
       "5                                  dimeric   \n",
       "6                               tetrameric   \n",
       "7                               tetrameric   \n",
       "8                               tetrameric   \n",
       "\n",
       "  _pdbx_struct_assembly_gen.assembly_id  \\\n",
       "0                                     1   \n",
       "1                                     2   \n",
       "2                                     3   \n",
       "3                                     4   \n",
       "4                                     5   \n",
       "5                                     6   \n",
       "6                                     7   \n",
       "7                                     8   \n",
       "8                                     9   \n",
       "\n",
       "  _pdbx_struct_assembly_gen.asym_id_list  \\\n",
       "0                                A,B,M,N   \n",
       "1                                C,D,O,P   \n",
       "2                                E,F,Q,R   \n",
       "3                                G,H,S,T   \n",
       "4                                I,J,U,V   \n",
       "5                                K,L,W,X   \n",
       "6                        E,F,G,H,Q,R,S,T   \n",
       "7                        A,B,C,D,M,N,O,P   \n",
       "8                        I,J,K,L,U,V,W,X   \n",
       "\n",
       "  _pdbx_struct_assembly_gen.oper_expression _pdbx_struct_oper_list.id  \\\n",
       "0                                         1                         1   \n",
       "1                                         1                         1   \n",
       "2                                         1                         1   \n",
       "3                                         1                         1   \n",
       "4                                         1                         1   \n",
       "5                                         1                         1   \n",
       "6                                         1                         1   \n",
       "7                                         1                         1   \n",
       "8                                         1                         1   \n",
       "\n",
       "  _pdbx_struct_oper_list.matrix[1][1]       ...         \\\n",
       "0                        1.0000000000       ...          \n",
       "1                        1.0000000000       ...          \n",
       "2                        1.0000000000       ...          \n",
       "3                        1.0000000000       ...          \n",
       "4                        1.0000000000       ...          \n",
       "5                        1.0000000000       ...          \n",
       "6                        1.0000000000       ...          \n",
       "7                        1.0000000000       ...          \n",
       "8                        1.0000000000       ...          \n",
       "\n",
       "  _pdbx_struct_oper_list.matrix[3][2] _pdbx_struct_oper_list.matrix[3][3]  \\\n",
       "0                        0.0000000000                        1.0000000000   \n",
       "1                        0.0000000000                        1.0000000000   \n",
       "2                        0.0000000000                        1.0000000000   \n",
       "3                        0.0000000000                        1.0000000000   \n",
       "4                        0.0000000000                        1.0000000000   \n",
       "5                        0.0000000000                        1.0000000000   \n",
       "6                        0.0000000000                        1.0000000000   \n",
       "7                        0.0000000000                        1.0000000000   \n",
       "8                        0.0000000000                        1.0000000000   \n",
       "\n",
       "  _pdbx_struct_oper_list.name _pdbx_struct_oper_list.symmetry_operation  \\\n",
       "0                       1_555                                     x,y,z   \n",
       "1                       1_555                                     x,y,z   \n",
       "2                       1_555                                     x,y,z   \n",
       "3                       1_555                                     x,y,z   \n",
       "4                       1_555                                     x,y,z   \n",
       "5                       1_555                                     x,y,z   \n",
       "6                       1_555                                     x,y,z   \n",
       "7                       1_555                                     x,y,z   \n",
       "8                       1_555                                     x,y,z   \n",
       "\n",
       "  _pdbx_struct_oper_list.type _pdbx_struct_oper_list.vector[1]  \\\n",
       "0          identity operation                     0.0000000000   \n",
       "1          identity operation                     0.0000000000   \n",
       "2          identity operation                     0.0000000000   \n",
       "3          identity operation                     0.0000000000   \n",
       "4          identity operation                     0.0000000000   \n",
       "5          identity operation                     0.0000000000   \n",
       "6          identity operation                     0.0000000000   \n",
       "7          identity operation                     0.0000000000   \n",
       "8          identity operation                     0.0000000000   \n",
       "\n",
       "  _pdbx_struct_oper_list.vector[2] _pdbx_struct_oper_list.vector[3]  \\\n",
       "0                     0.0000000000                     0.0000000000   \n",
       "1                     0.0000000000                     0.0000000000   \n",
       "2                     0.0000000000                     0.0000000000   \n",
       "3                     0.0000000000                     0.0000000000   \n",
       "4                     0.0000000000                     0.0000000000   \n",
       "5                     0.0000000000                     0.0000000000   \n",
       "6                     0.0000000000                     0.0000000000   \n",
       "7                     0.0000000000                     0.0000000000   \n",
       "8                     0.0000000000                     0.0000000000   \n",
       "\n",
       "                                            rotation      translation  \n",
       "0  [[1.0, 0.0, 0.0], [0.0, 1.0, 0.0], [0.0, 0.0, ...  [0.0, 0.0, 0.0]  \n",
       "1  [[1.0, 0.0, 0.0], [0.0, 1.0, 0.0], [0.0, 0.0, ...  [0.0, 0.0, 0.0]  \n",
       "2  [[1.0, 0.0, 0.0], [0.0, 1.0, 0.0], [0.0, 0.0, ...  [0.0, 0.0, 0.0]  \n",
       "3  [[1.0, 0.0, 0.0], [0.0, 1.0, 0.0], [0.0, 0.0, ...  [0.0, 0.0, 0.0]  \n",
       "4  [[1.0, 0.0, 0.0], [0.0, 1.0, 0.0], [0.0, 0.0, ...  [0.0, 0.0, 0.0]  \n",
       "5  [[1.0, 0.0, 0.0], [0.0, 1.0, 0.0], [0.0, 0.0, ...  [0.0, 0.0, 0.0]  \n",
       "6  [[1.0, 0.0, 0.0], [0.0, 1.0, 0.0], [0.0, 0.0, ...  [0.0, 0.0, 0.0]  \n",
       "7  [[1.0, 0.0, 0.0], [0.0, 1.0, 0.0], [0.0, 0.0, ...  [0.0, 0.0, 0.0]  \n",
       "8  [[1.0, 0.0, 0.0], [0.0, 1.0, 0.0], [0.0, 0.0, ...  [0.0, 0.0, 0.0]  \n",
       "\n",
       "[9 rows x 26 columns]"
      ]
     },
     "execution_count": 43,
     "metadata": {},
     "output_type": "execute_result"
    }
   ],
   "source": [
    "get_bioassembly_data(sdict)"
   ]
  },
  {
   "cell_type": "code",
   "execution_count": null,
   "metadata": {
    "collapsed": true,
    "run_control": {
     "marked": false
    }
   },
   "outputs": [],
   "source": [
    "[c for c in sdict if c.startswith('_struct_asym')]"
   ]
  },
  {
   "cell_type": "code",
   "execution_count": null,
   "metadata": {
    "collapsed": true,
    "run_control": {
     "marked": false
    },
    "scrolled": false
   },
   "outputs": [],
   "source": [
    "for key in relevant_keys:\n",
    "    print(key, sdict.get(key, 'ERROR!!!'))"
   ]
  },
  {
   "cell_type": "code",
   "execution_count": null,
   "metadata": {
    "collapsed": true,
    "run_control": {
     "marked": false
    }
   },
   "outputs": [],
   "source": []
  },
  {
   "cell_type": "markdown",
   "metadata": {
    "run_control": {
     "marked": false
    }
   },
   "source": [
    "# Functions"
   ]
  },
  {
   "cell_type": "code",
   "execution_count": null,
   "metadata": {
    "collapsed": true,
    "run_control": {
     "marked": false
    }
   },
   "outputs": [],
   "source": []
  },
  {
   "cell_type": "code",
   "execution_count": null,
   "metadata": {
    "collapsed": true,
    "run_control": {
     "marked": false
    }
   },
   "outputs": [],
   "source": []
  },
  {
   "cell_type": "code",
   "execution_count": null,
   "metadata": {
    "collapsed": true,
    "run_control": {
     "marked": false
    }
   },
   "outputs": [],
   "source": []
  },
  {
   "cell_type": "code",
   "execution_count": null,
   "metadata": {
    "collapsed": true,
    "run_control": {
     "marked": false
    }
   },
   "outputs": [],
   "source": [
    "mmcif_field_to_dataframe(sdict, '_pdbx_struct_assembly')"
   ]
  },
  {
   "cell_type": "code",
   "execution_count": null,
   "metadata": {
    "collapsed": true,
    "run_control": {
     "marked": false
    }
   },
   "outputs": [],
   "source": [
    "mmcif_field_to_dataframe(sdict, '_pdbx_struct_assembly_gen')"
   ]
  },
  {
   "cell_type": "code",
   "execution_count": null,
   "metadata": {
    "collapsed": true,
    "run_control": {
     "marked": false
    }
   },
   "outputs": [],
   "source": [
    "mmcif_field_to_dataframe(sdict, '_pdbx_struct_assembly_prop')"
   ]
  },
  {
   "cell_type": "code",
   "execution_count": null,
   "metadata": {
    "collapsed": true,
    "run_control": {
     "marked": false
    }
   },
   "outputs": [],
   "source": [
    "mmcif_field_to_dataframe(sdict, '_pdbx_struct_oper_list')"
   ]
  },
  {
   "cell_type": "code",
   "execution_count": null,
   "metadata": {
    "collapsed": true,
    "run_control": {
     "marked": false
    }
   },
   "outputs": [],
   "source": []
  },
  {
   "cell_type": "code",
   "execution_count": null,
   "metadata": {
    "collapsed": true,
    "run_control": {
     "marked": false
    }
   },
   "outputs": [],
   "source": []
  },
  {
   "cell_type": "code",
   "execution_count": null,
   "metadata": {
    "collapsed": true,
    "run_control": {
     "marked": false
    }
   },
   "outputs": [],
   "source": []
  },
  {
   "cell_type": "code",
   "execution_count": null,
   "metadata": {
    "collapsed": true,
    "run_control": {
     "marked": false
    }
   },
   "outputs": [],
   "source": [
    "bioassembly_columns = {\n",
    "    '_pdbx_struct_assembly.id': 'id',\n",
    "    '_pdbx_struct_assembly.details': 'details',\n",
    "    '_pdbx_struct_assembly.method_details': 'method_details',\n",
    "    '_pdbx_struct_assembly_gen.assembly_id': 'gen_assembly_id',\n",
    "    '_pdbx_struct_assembly_gen.oper_expression': 'gen_oper_expression',\n",
    "    '_pdbx_struct_assembly_gen.asym_id_list': 'gen_asym_id_list',\n",
    "    '_pdbx_struct_assembly_prop.biol_id': 'prop_biol_id',\n",
    "    '_pdbx_struct_assembly_prop.type': 'assembly_prop_type',\n",
    "    '_pdbx_struct_assembly_prop.value': 'assembly_prop_value',\n",
    "    '_pdbx_struct_assembly_prop.details': 'assembly_prop_details',\n",
    "}\n",
    "\n",
    "\n",
    "row = dict(\n",
    "'gen': [],\n",
    "'prop': []\n",
    ")\n",
    "\n",
    "def iter_bioassembly_data(sdict):\n",
    "    for data in zip(*[sdict[c] for c in bioassembly_columns]):\n",
    "        data_dict = dict(zip(bioassembly_columns.values(), data))\n",
    "        assert data_dict['assembly_id'] == data_dict['assembly_gen_assembly_id']\n",
    "        yield data_dict\n",
    "        \n",
    "        \n",
    "list(iter_bioassembly_data(sdict))"
   ]
  },
  {
   "cell_type": "code",
   "execution_count": null,
   "metadata": {
    "collapsed": true,
    "run_control": {
     "marked": false
    }
   },
   "outputs": [],
   "source": [
    "df = mmcif_field_to_dataframe(sdict, '_pdbx_struct_oper_list')\n",
    "df"
   ]
  },
  {
   "cell_type": "code",
   "execution_count": null,
   "metadata": {
    "collapsed": true,
    "run_control": {
     "marked": false
    }
   },
   "outputs": [],
   "source": []
  },
  {
   "cell_type": "code",
   "execution_count": null,
   "metadata": {
    "collapsed": true,
    "run_control": {
     "marked": false
    }
   },
   "outputs": [],
   "source": [
    "df"
   ]
  },
  {
   "cell_type": "code",
   "execution_count": null,
   "metadata": {
    "collapsed": true,
    "run_control": {
     "marked": false
    }
   },
   "outputs": [],
   "source": [
    "def parse_pdbx_struct_oper_list(sdict):\n",
    "    df = mmcif_field_to_dataframe(sdict, '_pdbx_struct_oper_list')\n",
    "    df['rotation'] = df.apply(get_rotation, axis=1)\n",
    "    df['translation'] = df.apply(get_translation, axis=1)\n",
    "    return df.select(lambda c: not c.endswith(']'), axis=1)\n",
    "\n",
    "parse_pdbx_struct_oper_list(sdict)"
   ]
  },
  {
   "cell_type": "code",
   "execution_count": null,
   "metadata": {
    "collapsed": true,
    "run_control": {
     "marked": false
    }
   },
   "outputs": [],
   "source": [
    "sdict_to_bioassembly(sdict)"
   ]
  },
  {
   "cell_type": "code",
   "execution_count": null,
   "metadata": {
    "collapsed": true,
    "run_control": {
     "marked": false
    }
   },
   "outputs": [],
   "source": [
    "sdict_to_bioassembly(sdict)[1]['rotation']"
   ]
  },
  {
   "cell_type": "code",
   "execution_count": null,
   "metadata": {
    "collapsed": true,
    "run_control": {
     "marked": false
    }
   },
   "outputs": [],
   "source": [
    "structure = kmbio.PDB.MMCIFParser().get_structure('4dkl', '4DKL.cif')"
   ]
  },
  {
   "cell_type": "code",
   "execution_count": null,
   "metadata": {
    "collapsed": true,
    "run_control": {
     "marked": false
    }
   },
   "outputs": [],
   "source": [
    "structure.transform(\n",
    "    sdict_to_bioassembly(sdict)[1]['rotation'],\n",
    "    sdict_to_bioassembly(sdict)[1]['translation'],\n",
    ")"
   ]
  },
  {
   "cell_type": "code",
   "execution_count": null,
   "metadata": {
    "collapsed": true,
    "run_control": {
     "marked": false
    }
   },
   "outputs": [],
   "source": []
  }
 ],
 "metadata": {
  "hide_input": false,
  "kernelspec": {
   "display_name": "Python 3",
   "language": "python",
   "name": "python3"
  },
  "language_info": {
   "codemirror_mode": {
    "name": "ipython",
    "version": 3
   },
   "file_extension": ".py",
   "mimetype": "text/x-python",
   "name": "python",
   "nbconvert_exporter": "python",
   "pygments_lexer": "ipython3",
   "version": "3.6.0"
  },
  "toc": {
   "colors": {
    "hover_highlight": "#DAA520",
    "navigate_num": "#000000",
    "navigate_text": "#333333",
    "running_highlight": "#FF0000",
    "selected_highlight": "#FFD700",
    "sidebar_border": "#EEEEEE",
    "wrapper_background": "#FFFFFF"
   },
   "moveMenuLeft": true,
   "nav_menu": {
    "height": "12px",
    "width": "252px"
   },
   "navigate_menu": true,
   "number_sections": true,
   "sideBar": false,
   "threshold": 4,
   "toc_cell": false,
   "toc_position": {
    "height": "421px",
    "left": "1668.38px",
    "right": "20px",
    "top": "129.983px",
    "width": "339px"
   },
   "toc_section_display": "block",
   "toc_window_display": true,
   "widenNotebook": false
  },
  "widgets": {
   "application/vnd.jupyter.widget-state+json": {
    "state": {
     "40287b35b0ba43928da84e247b2ff591": {
      "model_module": "jupyter-js-widgets",
      "model_module_version": "^2.1.4",
      "model_name": "LayoutModel",
      "state": {
       "align_content": "",
       "align_items": "",
       "align_self": "",
       "border": "",
       "bottom": "",
       "display": "",
       "flex": "",
       "flex_flow": "",
       "height": "",
       "justify_content": "",
       "left": "",
       "margin": "",
       "max_height": "",
       "max_width": "",
       "min_height": "",
       "min_width": "",
       "msg_throttle": 3,
       "overflow": "",
       "overflow_x": "",
       "overflow_y": "",
       "padding": "",
       "right": "",
       "top": "",
       "visibility": "",
       "width": ""
      }
     },
     "554d2aecb6824e659133c1964e095954": {
      "model_module": "jupyter-js-widgets",
      "model_module_version": "*",
      "model_name": "DOMWidgetModel",
      "state": {
       "_camera_str": "orthographic",
       "_full_stage_parameters": {
        "ambientColor": 14540253,
        "ambientIntensity": 0.2,
        "backgroundColor": "white",
        "cameraFov": 40,
        "cameraType": "perspective",
        "clipDist": 10,
        "clipFar": 100,
        "clipNear": 0,
        "fogFar": 100,
        "fogNear": 50,
        "hoverTimeout": 500,
        "impostor": true,
        "lightColor": 14540253,
        "lightIntensity": 1,
        "panSpeed": 0.8,
        "quality": "medium",
        "rotateSpeed": 2,
        "sampleLevel": 0,
        "zoomSpeed": 1.2
       },
       "_image_data": "",
       "_model_name": "DOMWidgetModel",
       "_n_dragged_files": 0,
       "_original_stage_parameters": {
        "ambientColor": 14540253,
        "ambientIntensity": 0.2,
        "backgroundColor": "white",
        "cameraFov": 40,
        "cameraType": "perspective",
        "clipDist": 10,
        "clipFar": 100,
        "clipNear": 0,
        "fogFar": 100,
        "fogNear": 50,
        "hoverTimeout": 500,
        "impostor": true,
        "lightColor": 14540253,
        "lightIntensity": 1,
        "panSpeed": 0.8,
        "quality": "medium",
        "rotateSpeed": 2,
        "sampleLevel": 0,
        "zoomSpeed": 1.2
       },
       "_scene_position": {},
       "_scene_rotation": {},
       "_view_module": "nglview-js-widgets",
       "_view_name": "NGLView",
       "background": "white",
       "count": 1,
       "frame": 0,
       "layout": "IPY_MODEL_dabcbf6555fe4729a1a5c5f7a4e143c4",
       "n_components": 1,
       "orientation": [],
       "picked": {}
      }
     },
     "69d09c03149a4350b47b5a9dcfec0b5e": {
      "model_module": "jupyter-js-widgets",
      "model_module_version": "*",
      "model_name": "DOMWidgetModel",
      "state": {
       "_camera_str": "orthographic",
       "_full_stage_parameters": {
        "ambientColor": 14540253,
        "ambientIntensity": 0.2,
        "backgroundColor": "white",
        "cameraFov": 40,
        "cameraType": "perspective",
        "clipDist": 10,
        "clipFar": 100,
        "clipNear": 0,
        "fogFar": 100,
        "fogNear": 50,
        "hoverTimeout": 500,
        "impostor": true,
        "lightColor": 14540253,
        "lightIntensity": 1,
        "panSpeed": 0.8,
        "quality": "medium",
        "rotateSpeed": 2,
        "sampleLevel": 0,
        "zoomSpeed": 1.2
       },
       "_image_data": "",
       "_model_name": "DOMWidgetModel",
       "_n_dragged_files": 0,
       "_original_stage_parameters": {
        "ambientColor": 14540253,
        "ambientIntensity": 0.2,
        "backgroundColor": "white",
        "cameraFov": 40,
        "cameraType": "perspective",
        "clipDist": 10,
        "clipFar": 100,
        "clipNear": 0,
        "fogFar": 100,
        "fogNear": 50,
        "hoverTimeout": 500,
        "impostor": true,
        "lightColor": 14540253,
        "lightIntensity": 1,
        "panSpeed": 0.8,
        "quality": "medium",
        "rotateSpeed": 2,
        "sampleLevel": 0,
        "zoomSpeed": 1.2
       },
       "_scene_position": {},
       "_scene_rotation": {},
       "_view_module": "nglview-js-widgets",
       "_view_name": "NGLView",
       "background": "white",
       "background_color": null,
       "color": null,
       "count": 1,
       "font_family": "",
       "font_size": "",
       "font_style": "",
       "font_weight": "",
       "frame": 0,
       "layout": "IPY_MODEL_933cd01ec7f64471a32fbbd11a402c4a",
       "msg_throttle": 3,
       "n_components": 0,
       "orientation": [],
       "picked": {},
       "visible": true
      }
     },
     "74ac383a0a074ea4a491e73bf036ce47": {
      "model_module": "jupyter-js-widgets",
      "model_module_version": "~2.1.4",
      "model_name": "LayoutModel",
      "state": {
       "_model_module_version": "~2.1.4",
       "_view_module_version": "~2.1.4"
      }
     },
     "933cd01ec7f64471a32fbbd11a402c4a": {
      "model_module": "jupyter-js-widgets",
      "model_module_version": "^2.1.4",
      "model_name": "LayoutModel",
      "state": {
       "align_content": "",
       "align_items": "",
       "align_self": "",
       "border": "",
       "bottom": "",
       "display": "",
       "flex": "",
       "flex_flow": "",
       "height": "",
       "justify_content": "",
       "left": "",
       "margin": "",
       "max_height": "",
       "max_width": "",
       "min_height": "",
       "min_width": "",
       "msg_throttle": 3,
       "overflow": "",
       "overflow_x": "",
       "overflow_y": "",
       "padding": "",
       "right": "",
       "top": "",
       "visibility": "",
       "width": ""
      }
     },
     "9d22eb8a4e9d4556a061de165b98ccdc": {
      "model_module": "jupyter-js-widgets",
      "model_module_version": "^2.1.4",
      "model_name": "LayoutModel",
      "state": {
       "align_content": "",
       "align_items": "",
       "align_self": "",
       "border": "",
       "bottom": "",
       "display": "",
       "flex": "",
       "flex_flow": "",
       "height": "",
       "justify_content": "",
       "left": "",
       "margin": "",
       "max_height": "",
       "max_width": "",
       "min_height": "",
       "min_width": "",
       "msg_throttle": 3,
       "overflow": "",
       "overflow_x": "",
       "overflow_y": "",
       "padding": "",
       "right": "",
       "top": "",
       "visibility": "",
       "width": ""
      }
     },
     "b5c096c3ad1648b8b184d3b9bc0506b5": {
      "model_module": "jupyter-js-widgets",
      "model_module_version": "~2.1.4",
      "model_name": "LayoutModel",
      "state": {
       "_model_module_version": "~2.1.4",
       "_view_module_version": "~2.1.4"
      }
     },
     "c1ba5f8fcb814e548c344834b91a7531": {
      "model_module": "jupyter-js-widgets",
      "model_module_version": "^2.1.4",
      "model_name": "ImageModel",
      "state": {
       "background_color": null,
       "color": null,
       "font_family": "",
       "font_size": "",
       "font_style": "",
       "font_weight": "",
       "layout": "IPY_MODEL_e4c06666b4fc4a53a4dc7384960df1f1",
       "msg_throttle": 3,
       "visible": true,
       "width": "900.0"
      }
     },
     "c338580a8f5044e2be1408aa2612b2b3": {
      "model_module": "jupyter-js-widgets",
      "model_module_version": "~2.1.4",
      "model_name": "TextModel",
      "state": {
       "_model_module_version": "~2.1.4",
       "_view_module_version": "~2.1.4",
       "layout": "IPY_MODEL_74ac383a0a074ea4a491e73bf036ce47",
       "value": "hello"
      }
     },
     "da2ca77dbe6e480899e5b28dc86e5c34": {
      "model_module": "jupyter-js-widgets",
      "model_module_version": "~2.1.4",
      "model_name": "ImageModel",
      "state": {
       "_model_module_version": "~2.1.4",
       "_view_module_version": "~2.1.4",
       "layout": "IPY_MODEL_b5c096c3ad1648b8b184d3b9bc0506b5",
       "width": "900.0"
      }
     },
     "dabcbf6555fe4729a1a5c5f7a4e143c4": {
      "model_module": "jupyter-js-widgets",
      "model_module_version": "~2.1.4",
      "model_name": "LayoutModel",
      "state": {
       "_model_module_version": "~2.1.4",
       "_view_module_version": "~2.1.4"
      }
     },
     "e4c06666b4fc4a53a4dc7384960df1f1": {
      "model_module": "jupyter-js-widgets",
      "model_module_version": "^2.1.4",
      "model_name": "LayoutModel",
      "state": {
       "align_content": "",
       "align_items": "",
       "align_self": "",
       "border": "",
       "bottom": "",
       "display": "",
       "flex": "",
       "flex_flow": "",
       "height": "",
       "justify_content": "",
       "left": "",
       "margin": "",
       "max_height": "",
       "max_width": "",
       "min_height": "",
       "min_width": "",
       "msg_throttle": 3,
       "overflow": "",
       "overflow_x": "",
       "overflow_y": "",
       "padding": "",
       "right": "",
       "top": "",
       "visibility": "",
       "width": ""
      }
     },
     "f61f625ec40d469c89e7c8f731012d9a": {
      "model_module": "jupyter-js-widgets",
      "model_module_version": "^2.1.4",
      "model_name": "ImageModel",
      "state": {
       "background_color": null,
       "color": null,
       "font_family": "",
       "font_size": "",
       "font_style": "",
       "font_weight": "",
       "layout": "IPY_MODEL_9d22eb8a4e9d4556a061de165b98ccdc",
       "msg_throttle": 3,
       "visible": true,
       "width": "900.0"
      }
     },
     "f95d19624e1048718e8cb33bab4e3151": {
      "model_module": "jupyter-js-widgets",
      "model_module_version": "*",
      "model_name": "DOMWidgetModel",
      "state": {
       "_camera_str": "orthographic",
       "_full_stage_parameters": {
        "ambientColor": 14540253,
        "ambientIntensity": 0.2,
        "backgroundColor": "white",
        "cameraFov": 40,
        "cameraType": "perspective",
        "clipDist": 10,
        "clipFar": 100,
        "clipNear": 0,
        "fogFar": 100,
        "fogNear": 50,
        "hoverTimeout": 500,
        "impostor": true,
        "lightColor": 14540253,
        "lightIntensity": 1,
        "panSpeed": 0.8,
        "quality": "medium",
        "rotateSpeed": 2,
        "sampleLevel": 0,
        "zoomSpeed": 1.2
       },
       "_image_data": "",
       "_model_name": "DOMWidgetModel",
       "_n_dragged_files": 0,
       "_original_stage_parameters": {
        "ambientColor": 14540253,
        "ambientIntensity": 0.2,
        "backgroundColor": "white",
        "cameraFov": 40,
        "cameraType": "perspective",
        "clipDist": 10,
        "clipFar": 100,
        "clipNear": 0,
        "fogFar": 100,
        "fogNear": 50,
        "hoverTimeout": 500,
        "impostor": true,
        "lightColor": 14540253,
        "lightIntensity": 1,
        "panSpeed": 0.8,
        "quality": "medium",
        "rotateSpeed": 2,
        "sampleLevel": 0,
        "zoomSpeed": 1.2
       },
       "_scene_position": {},
       "_scene_rotation": {},
       "_view_module": "nglview-js-widgets",
       "_view_name": "NGLView",
       "background": "white",
       "background_color": null,
       "color": null,
       "count": 1,
       "font_family": "",
       "font_size": "",
       "font_style": "",
       "font_weight": "",
       "frame": 0,
       "layout": "IPY_MODEL_40287b35b0ba43928da84e247b2ff591",
       "msg_throttle": 3,
       "n_components": 1,
       "orientation": [],
       "picked": {},
       "visible": true
      }
     }
    },
    "version_major": 1,
    "version_minor": 0
   }
  }
 },
 "nbformat": 4,
 "nbformat_minor": 2
}
