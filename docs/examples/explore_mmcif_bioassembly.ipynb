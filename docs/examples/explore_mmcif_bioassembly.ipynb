{
 "cells": [
  {
   "cell_type": "markdown",
   "metadata": {},
   "source": [
    "# Explore MMCif Bioassembly"
   ]
  },
  {
   "cell_type": "code",
   "execution_count": 84,
   "metadata": {},
   "outputs": [
    {
     "name": "stdout",
     "output_type": "stream",
     "text": [
      "The autoreload extension is already loaded. To reload it, use:\n",
      "  %reload_ext autoreload\n"
     ]
    }
   ],
   "source": [
    "%load_ext autoreload\n",
    "%autoreload 2"
   ]
  },
  {
   "cell_type": "code",
   "execution_count": 85,
   "metadata": {
    "collapsed": true
   },
   "outputs": [],
   "source": [
    "import os\n",
    "import os.path as op\n",
    "import tempfile\n",
    "import urllib.request\n",
    "\n",
    "import numpy as np\n",
    "\n",
    "import kmbio"
   ]
  },
  {
   "cell_type": "code",
   "execution_count": 139,
   "metadata": {
    "collapsed": true,
    "run_control": {
     "marked": false
    }
   },
   "outputs": [],
   "source": [
    "relevant_keys = [\n",
    "    #\n",
    "    '_struct_asym.id',  # corresponds to 'label_asym_id', i.e. mmCIF chain naming\n",
    "    '_struct_asym.entity_id',\n",
    "#     '_atom_site.auth_asym_id',\n",
    "#     '_atom_site.label_asym_id',\n",
    "    #\n",
    "    '_pdbx_struct_assembly.id',\n",
    "    '_pdbx_struct_assembly.details',\n",
    "    '_pdbx_struct_assembly.method_details',\n",
    "    #\n",
    "    '_pdbx_struct_assembly_gen.assembly_id',  # biological assembly id (1 to multiple)\n",
    "    '_pdbx_struct_assembly_gen.oper_expression',  # specifies operation from PDBX_STRUCT_OPER_LIST\n",
    "    '_pdbx_struct_assembly_gen.asym_id_list',  # pointer to _struct_asym.id\n",
    "    #\n",
    "    '_pdbx_struct_assembly_prop.biol_id',\n",
    "    '_pdbx_struct_assembly_prop.type',\n",
    "    '_pdbx_struct_assembly_prop.value',\n",
    "    '_pdbx_struct_assembly_prop.details',\n",
    "    #\n",
    "    '_pdbx_struct_oper_list.id',\n",
    "    '_pdbx_struct_oper_list.type',\n",
    "    '_pdbx_struct_oper_list.name',\n",
    "    '_pdbx_struct_oper_list.symmetry_operation',\n",
    "    '_pdbx_struct_oper_list.matrix[1][1]',\n",
    "    '_pdbx_struct_oper_list.matrix[1][2]',\n",
    "    '_pdbx_struct_oper_list.matrix[1][3]',\n",
    "    '_pdbx_struct_oper_list.vector[1]',\n",
    "    '_pdbx_struct_oper_list.matrix[2][1]',\n",
    "    '_pdbx_struct_oper_list.matrix[2][2]',\n",
    "    '_pdbx_struct_oper_list.matrix[2][3]',\n",
    "    '_pdbx_struct_oper_list.vector[2]',\n",
    "    '_pdbx_struct_oper_list.matrix[3][1]',\n",
    "    '_pdbx_struct_oper_list.matrix[3][2]',\n",
    "    '_pdbx_struct_oper_list.matrix[3][3]',\n",
    "    '_pdbx_struct_oper_list.vector[3]',\n",
    "]"
   ]
  },
  {
   "cell_type": "code",
   "execution_count": 140,
   "metadata": {},
   "outputs": [
    {
     "data": {
      "text/plain": [
       "['_struct_asym.id',\n",
       " '_struct_asym.pdbx_blank_PDB_chainid_flag',\n",
       " '_struct_asym.pdbx_modified',\n",
       " '_struct_asym.entity_id',\n",
       " '_struct_asym.details']"
      ]
     },
     "execution_count": 140,
     "metadata": {},
     "output_type": "execute_result"
    }
   ],
   "source": [
    "[c for c in sdict if c.startswith('_struct_asym')]"
   ]
  },
  {
   "cell_type": "code",
   "execution_count": 141,
   "metadata": {},
   "outputs": [
    {
     "data": {
      "text/plain": [
       "('2ou1.cif', <http.client.HTTPMessage at 0x7f3d4c66d518>)"
      ]
     },
     "execution_count": 141,
     "metadata": {},
     "output_type": "execute_result"
    }
   ],
   "source": [
    "pdb_id = '2ou1'\n",
    "\n",
    "urllib.request.urlretrieve('http://files.rcsb.org/download/{}.cif'.format(pdb_id), '{}.cif'.format(pdb_id))"
   ]
  },
  {
   "cell_type": "code",
   "execution_count": 142,
   "metadata": {
    "collapsed": true
   },
   "outputs": [],
   "source": [
    "sdict = kmbio.PDB.MMCIF2Dict('{}.cif'.format(pdb_id))"
   ]
  },
  {
   "cell_type": "code",
   "execution_count": 143,
   "metadata": {
    "scrolled": false
   },
   "outputs": [
    {
     "name": "stdout",
     "output_type": "stream",
     "text": [
      "_struct_asym.id ['A', 'B', 'C', 'D', 'E', 'F', 'G', 'H', 'I', 'J', 'K', 'L', 'M', 'N', 'O', 'P', 'Q', 'R', 'S', 'T', 'U', 'V', 'W', 'X']\n",
      "_struct_asym.entity_id ['1', '1', '1', '1', '1', '1', '1', '1', '1', '1', '1', '1', '2', '2', '2', '2', '2', '2', '2', '2', '2', '2', '2', '2']\n",
      "_pdbx_struct_assembly.id ['1', '2', '3', '4', '5', '6', '7', '8', '9']\n",
      "_pdbx_struct_assembly.details ['author_and_software_defined_assembly', 'author_and_software_defined_assembly', 'author_and_software_defined_assembly', 'author_and_software_defined_assembly', 'author_and_software_defined_assembly', 'author_and_software_defined_assembly', 'software_defined_assembly', 'software_defined_assembly', 'software_defined_assembly']\n",
      "_pdbx_struct_assembly.method_details ['PISA', 'PISA', 'PISA', 'PISA', 'PISA', 'PISA', 'PISA', 'PISA', 'PISA']\n",
      "_pdbx_struct_assembly_gen.assembly_id ['1', '2', '3', '4', '5', '6', '7', '8', '9']\n",
      "_pdbx_struct_assembly_gen.oper_expression ['1', '1', '1', '1', '1', '1', '1', '1', '1']\n",
      "_pdbx_struct_assembly_gen.asym_id_list ['A,B,M,N', 'C,D,O,P', 'E,F,Q,R', 'G,H,S,T', 'I,J,U,V', 'K,L,W,X', 'E,F,G,H,Q,R,S,T', 'A,B,C,D,M,N,O,P', 'I,J,K,L,U,V,W,X']\n",
      "_pdbx_struct_assembly_prop.biol_id ['1', '1', '1', '2', '2', '2', '3', '3', '3', '4', '4', '4', '5', '5', '5', '6', '6', '6', '7', '7', '7', '8', '8', '8', '9', '9', '9']\n",
      "_pdbx_struct_assembly_prop.type ['ABSA (A^2)', 'MORE', 'SSA (A^2)', 'ABSA (A^2)', 'MORE', 'SSA (A^2)', 'ABSA (A^2)', 'MORE', 'SSA (A^2)', 'ABSA (A^2)', 'MORE', 'SSA (A^2)', 'ABSA (A^2)', 'MORE', 'SSA (A^2)', 'ABSA (A^2)', 'MORE', 'SSA (A^2)', 'ABSA (A^2)', 'MORE', 'SSA (A^2)', 'ABSA (A^2)', 'MORE', 'SSA (A^2)', 'ABSA (A^2)', 'MORE', 'SSA (A^2)']\n",
      "_pdbx_struct_assembly_prop.value ['1960', '-18', '11670', '2150', '-18', '11660', '1960', '-18', '11620', '2120', '-19', '11680', '1840', '-15', '11850', '1940', '-17', '11950', '10510', '-100', '16870', '10550', '-100', '16890', '9880', '-92', '17700']\n",
      "_pdbx_struct_assembly_prop.details ['?', '?', '?', '?', '?', '?', '?', '?', '?', '?', '?', '?', '?', '?', '?', '?', '?', '?', '?', '?', '?', '?', '?', '?', '?', '?', '?']\n",
      "_pdbx_struct_oper_list.id 1\n",
      "_pdbx_struct_oper_list.type identity operation\n",
      "_pdbx_struct_oper_list.name 1_555\n",
      "_pdbx_struct_oper_list.symmetry_operation x,y,z\n",
      "_pdbx_struct_oper_list.matrix[1][1] 1.0000000000\n",
      "_pdbx_struct_oper_list.matrix[1][2] 0.0000000000\n",
      "_pdbx_struct_oper_list.matrix[1][3] 0.0000000000\n",
      "_pdbx_struct_oper_list.vector[1] 0.0000000000\n",
      "_pdbx_struct_oper_list.matrix[2][1] 0.0000000000\n",
      "_pdbx_struct_oper_list.matrix[2][2] 1.0000000000\n",
      "_pdbx_struct_oper_list.matrix[2][3] 0.0000000000\n",
      "_pdbx_struct_oper_list.vector[2] 0.0000000000\n",
      "_pdbx_struct_oper_list.matrix[3][1] 0.0000000000\n",
      "_pdbx_struct_oper_list.matrix[3][2] 0.0000000000\n",
      "_pdbx_struct_oper_list.matrix[3][3] 1.0000000000\n",
      "_pdbx_struct_oper_list.vector[3] 0.0000000000\n"
     ]
    }
   ],
   "source": [
    "for key in relevant_keys:\n",
    "    print(key, sdict.get(key, 'ERROR!!!'))"
   ]
  },
  {
   "cell_type": "code",
   "execution_count": null,
   "metadata": {
    "collapsed": true
   },
   "outputs": [],
   "source": []
  },
  {
   "cell_type": "code",
   "execution_count": null,
   "metadata": {
    "collapsed": true
   },
   "outputs": [],
   "source": []
  },
  {
   "cell_type": "code",
   "execution_count": 90,
   "metadata": {
    "collapsed": true
   },
   "outputs": [],
   "source": [
    "def sdict_to_bioassembly(sdict):\n",
    "    bioassembly_data = dict()\n",
    "    for i, bioassembly_id in enumerate(sdict['_pdbx_struct_oper_list.id']):\n",
    "        bioassembly_id = int(bioassembly_id)\n",
    "        bioassembly_data[bioassembly_id] = {\n",
    "            'type': sdict['_pdbx_struct_oper_list.type'][i],\n",
    "            'name': sdict['_pdbx_struct_oper_list.name'][i],\n",
    "            'symmetry_operation': sdict['_pdbx_struct_oper_list.symmetry_operation'][i],\n",
    "            'rotation': np.array([\n",
    "                [float(sdict['_pdbx_struct_oper_list.matrix[1][1]'][i]),\n",
    "                 float(sdict['_pdbx_struct_oper_list.matrix[1][2]'][i]),\n",
    "                 float(sdict['_pdbx_struct_oper_list.matrix[1][3]'][i])],\n",
    "                [float(sdict['_pdbx_struct_oper_list.matrix[2][1]'][i]),\n",
    "                 float(sdict['_pdbx_struct_oper_list.matrix[2][2]'][i]),\n",
    "                 float(sdict['_pdbx_struct_oper_list.matrix[2][3]'][i])],\n",
    "                [float(sdict['_pdbx_struct_oper_list.matrix[3][1]'][i]),\n",
    "                 float(sdict['_pdbx_struct_oper_list.matrix[3][2]'][i]),\n",
    "                 float(sdict['_pdbx_struct_oper_list.matrix[3][3]'][i])]\n",
    "            ]),\n",
    "            'translation': np.array([\n",
    "                float(sdict['_pdbx_struct_oper_list.vector[1]'][i]),\n",
    "                float(sdict['_pdbx_struct_oper_list.vector[2]'][i]),\n",
    "                float(sdict['_pdbx_struct_oper_list.vector[3]'][i]),\n",
    "            ])\n",
    "        }\n",
    "    return bioassembly_data"
   ]
  },
  {
   "cell_type": "code",
   "execution_count": null,
   "metadata": {
    "collapsed": true
   },
   "outputs": [],
   "source": []
  },
  {
   "cell_type": "code",
   "execution_count": 91,
   "metadata": {},
   "outputs": [
    {
     "data": {
      "text/plain": [
       "{1: {'name': '1_555', 'rotation': array([[ 1.,  0.,  0.],\n",
       "         [ 0.,  1.,  0.],\n",
       "         [ 0.,  0.,  1.]]), 'symmetry_operation': 'x,y,z', 'translation': array([ 0.,  0.,  0.]), 'type': 'identity operation'},\n",
       " 2: {'name': '2_455', 'rotation': array([[-1.,  0.,  0.],\n",
       "         [ 0.,  1.,  0.],\n",
       "         [ 0.,  0., -1.]]), 'symmetry_operation': '-x-1,y,-z', 'translation': array([-70.882,   0.   ,   0.   ]), 'type': 'crystal symmetry operation'}}"
      ]
     },
     "execution_count": 91,
     "metadata": {},
     "output_type": "execute_result"
    }
   ],
   "source": [
    "sdict_to_bioassembly(sdict)"
   ]
  },
  {
   "cell_type": "code",
   "execution_count": 92,
   "metadata": {},
   "outputs": [
    {
     "data": {
      "text/plain": [
       "array([[ 1.,  0.,  0.],\n",
       "       [ 0.,  1.,  0.],\n",
       "       [ 0.,  0.,  1.]])"
      ]
     },
     "execution_count": 92,
     "metadata": {},
     "output_type": "execute_result"
    }
   ],
   "source": [
    "sdict_to_bioassembly(sdict)[1]['rotation']"
   ]
  },
  {
   "cell_type": "code",
   "execution_count": 93,
   "metadata": {},
   "outputs": [
    {
     "ename": "TypeError",
     "evalue": "Can't instantiate abstract class MMCIFParser with abstract methods get_biological_assembly",
     "output_type": "error",
     "traceback": [
      "\u001b[0;31m---------------------------------------------------------------------------\u001b[0m",
      "\u001b[0;31mTypeError\u001b[0m                                 Traceback (most recent call last)",
      "\u001b[0;32m<ipython-input-93-dca869c012bc>\u001b[0m in \u001b[0;36m<module>\u001b[0;34m()\u001b[0m\n\u001b[0;32m----> 1\u001b[0;31m \u001b[0mstructure\u001b[0m \u001b[0;34m=\u001b[0m \u001b[0mkmbio\u001b[0m\u001b[0;34m.\u001b[0m\u001b[0mPDB\u001b[0m\u001b[0;34m.\u001b[0m\u001b[0mMMCIFParser\u001b[0m\u001b[0;34m(\u001b[0m\u001b[0;34m)\u001b[0m\u001b[0;34m.\u001b[0m\u001b[0mget_structure\u001b[0m\u001b[0;34m(\u001b[0m\u001b[0;34m'4dkl'\u001b[0m\u001b[0;34m,\u001b[0m \u001b[0;34m'4DKL.cif'\u001b[0m\u001b[0;34m)\u001b[0m\u001b[0;34m\u001b[0m\u001b[0m\n\u001b[0m",
      "\u001b[0;31mTypeError\u001b[0m: Can't instantiate abstract class MMCIFParser with abstract methods get_biological_assembly"
     ]
    }
   ],
   "source": [
    "structure = kmbio.PDB.MMCIFParser().get_structure('4dkl', '4DKL.cif')"
   ]
  },
  {
   "cell_type": "code",
   "execution_count": null,
   "metadata": {
    "collapsed": true
   },
   "outputs": [],
   "source": [
    "structure.transform(\n",
    "    sdict_to_bioassembly(sdict)[1]['rotation'],\n",
    "    sdict_to_bioassembly(sdict)[1]['translation'],\n",
    ")"
   ]
  },
  {
   "cell_type": "code",
   "execution_count": null,
   "metadata": {
    "collapsed": true
   },
   "outputs": [],
   "source": []
  }
 ],
 "metadata": {
  "hide_input": false,
  "kernelspec": {
   "display_name": "Python [default]",
   "language": "python",
   "name": "python3"
  },
  "language_info": {
   "codemirror_mode": {
    "name": "ipython",
    "version": 3
   },
   "file_extension": ".py",
   "mimetype": "text/x-python",
   "name": "python",
   "nbconvert_exporter": "python",
   "pygments_lexer": "ipython3",
   "version": "3.6.0"
  },
  "toc": {
   "colors": {
    "hover_highlight": "#DAA520",
    "navigate_num": "#000000",
    "navigate_text": "#333333",
    "running_highlight": "#FF0000",
    "selected_highlight": "#FFD700",
    "sidebar_border": "#EEEEEE",
    "wrapper_background": "#FFFFFF"
   },
   "moveMenuLeft": true,
   "nav_menu": {
    "height": "12px",
    "width": "252px"
   },
   "navigate_menu": true,
   "number_sections": true,
   "sideBar": false,
   "threshold": 4,
   "toc_cell": false,
   "toc_section_display": "block",
   "toc_window_display": false,
   "widenNotebook": false
  }
 },
 "nbformat": 4,
 "nbformat_minor": 2
}
